{
  "nbformat": 4,
  "nbformat_minor": 0,
  "metadata": {
    "colab": {
      "name": "02-numpy-pandas.ipynb",
      "provenance": [],
      "collapsed_sections": [
        "jIeDiFDZCCZX",
        "p36LdrTO5XmF",
        "jWgWDpQJMHF_",
        "yxdoGpZUOXzM",
        "_wHMzu4uOXpH",
        "GXIJeTiaOXh9",
        "PM8k8vn63ENe",
        "EmTHmhMd8DMY",
        "SxiAsuIIAAST",
        "HjL9SddCAihV",
        "jNL9Xp1-DXoz",
        "FbEsU2mmEO0A",
        "IOC4Ko3Myupf",
        "b-jN8znNLjjl",
        "tBvlcKhjMWUP",
        "Jh6Yu8aTMuiq",
        "vl9K2T6JObNy",
        "_KRB9vg5Ky5l"
      ]
    },
    "kernelspec": {
      "name": "python3",
      "display_name": "Python 3",
      "language": "python"
    }
  },
  "cells": [
    {
      "cell_type": "markdown",
      "metadata": {
        "id": "HmtCpgQv7ec2",
        "colab_type": "text"
      },
      "source": [
        "# Знакомство с NumPy и Pandas"
      ]
    },
    {
      "cell_type": "markdown",
      "metadata": {
        "id": "rs-TYBL-7srJ",
        "colab_type": "text"
      },
      "source": [
        "Язык программирования Python стал популярен в научной среде и в частности, в области машинного обучения, из-за огромного количества качественных библиотек для работы с разнообразными данными. Две важные библиотеки, с которыми необходимо познакомиться до того, как переходить непосредственно к алгоритмам машинного обучения - это NumPy (https://numpy.org/) и Pandas (https://pandas.pydata.org/), которые составляют основу стека для работы с данными в Python.\n",
        "\n",
        "В этом семинаре я буду пользоваться иллюстрациями из прекрасных вводных статей по NumPy & Pandas (рекомендую к просмотру для закрепления):\n",
        "\n",
        "*   http://jalammar.github.io/visual-numpy/\n",
        "*   http://jalammar.github.io/gentle-visual-intro-to-data-analysis-python-pandas/\n",
        "\n"
      ]
    },
    {
      "cell_type": "markdown",
      "metadata": {
        "id": "jIeDiFDZCCZX",
        "colab_type": "text"
      },
      "source": [
        "## NumPy"
      ]
    },
    {
      "cell_type": "markdown",
      "metadata": {
        "id": "_3-kDWSRxvkd",
        "colab_type": "text"
      },
      "source": [
        "![NumPy logo](https://upload.wikimedia.org/wikipedia/commons/1/1a/NumPy_logo.svg)"
      ]
    },
    {
      "cell_type": "markdown",
      "metadata": {
        "id": "u0KxpcjxCGC3",
        "colab_type": "text"
      },
      "source": [
        "Математическая основа большинства алгоритмов машинного обучения - это раздел математики, называющийся \"линейная алгебра\" - операции над матрицами, векторами и т.д. В стандартной библиотеке Python нет эффективной реализации математического объекта вектора и матрицы. Если реализовывать их с помощью доступных в Python списков, вложенных списков или объектов array.array, то выходит слишком медленно. NumPy (Numeric Python) - библиотека, предоставляющая эффективную реализацию объектов векторов, матриц и операций с ними, а засчет того, что ее ядро написано на C и Fortran и очень сильно оптимизировано, достигается впечатляющая вычислительная производительность."
      ]
    },
    {
      "cell_type": "markdown",
      "metadata": {
        "id": "5tKnxi0W38Jr",
        "colab_type": "text"
      },
      "source": [
        "Для начала, импортируем NumPy. Сокращение `np` для пакета общеупотребимое и используется везде, включая официальную документацию  "
      ]
    },
    {
      "cell_type": "code",
      "metadata": {
        "id": "v8yiQ1y07hN8",
        "colab_type": "code",
        "colab": {}
      },
      "source": [
        "import numpy as np"
      ],
      "execution_count": null,
      "outputs": []
    },
    {
      "cell_type": "markdown",
      "metadata": {
        "id": "vEGDTFPW4ass",
        "colab_type": "text"
      },
      "source": [
        "Основной объект, предоставляемый библиотекой `numpy` - это объект массива `np.array`\n"
      ]
    },
    {
      "cell_type": "markdown",
      "metadata": {
        "id": "uZuREfT25FSt",
        "colab_type": "text"
      },
      "source": [
        "![numpy array visualization](http://jalammar.github.io/images/numpy/numpy-array.png)"
      ]
    },
    {
      "cell_type": "markdown",
      "metadata": {
        "id": "p36LdrTO5XmF",
        "colab_type": "text"
      },
      "source": [
        "### Создание одномерных объектов `np.array` (векторов)"
      ]
    },
    {
      "cell_type": "markdown",
      "metadata": {
        "id": "ayqOP8mj5gBC",
        "colab_type": "text"
      },
      "source": [
        "Перед началом работы с вектором, его, конечно же, нужно создать. Сделать это можно, например, следующими способами (но не только ими):\n",
        "\n",
        "1.   Передать список (или другой итерируемый объект)\n",
        "2.   Создать массив нужного размера, заполненный константой (единицами, нулями и т.д.)\n",
        "3.   Создать массив нужного размера, заполненный случайными значениями\n",
        "4.   Больше способов [тут](https://docs.scipy.org/doc/numpy/user/basics.creation.html#arrays-creation) и [тут](https://docs.scipy.org/doc/numpy/reference/routines.array-creation.html#routines-array-creation)\n",
        "\n",
        "\n"
      ]
    },
    {
      "cell_type": "markdown",
      "metadata": {
        "id": "M8IM8rn57xQ-",
        "colab_type": "text"
      },
      "source": [
        "![create numpy array 1](http://jalammar.github.io/images/numpy/create-numpy-array-1.png)"
      ]
    },
    {
      "cell_type": "markdown",
      "metadata": {
        "id": "U4PjcGb68MVC",
        "colab_type": "text"
      },
      "source": [
        "![create numpy array ones, zeros, random](http://jalammar.github.io/images/numpy/create-numpy-array-ones-zeros-random.png)"
      ]
    },
    {
      "cell_type": "markdown",
      "metadata": {
        "id": "jWgWDpQJMHF_",
        "colab_type": "text"
      },
      "source": [
        "### Арифметические действия"
      ]
    },
    {
      "cell_type": "markdown",
      "metadata": {
        "id": "WYFlbeJ4MmtW",
        "colab_type": "text"
      },
      "source": [
        "Над массивами можно проводить арифметические действия, при этом для обычных арифметических операторов (сложение, умножение, вычитание, деление) операции будут производиться **поэлементно**:"
      ]
    },
    {
      "cell_type": "markdown",
      "metadata": {
        "id": "SOhlT7vWNqGC",
        "colab_type": "text"
      },
      "source": [
        "![numpy arrays example 1](http://jalammar.github.io/images/numpy/numpy-arrays-example-1.png)"
      ]
    },
    {
      "cell_type": "markdown",
      "metadata": {
        "id": "WLi5TCj2N2tY",
        "colab_type": "text"
      },
      "source": [
        "![numpy arrays adding 1](http://jalammar.github.io/images/numpy/numpy-arrays-adding-1.png)"
      ]
    },
    {
      "cell_type": "markdown",
      "metadata": {
        "id": "RU4mzgiqOX2s",
        "colab_type": "text"
      },
      "source": [
        "![numpy array substract multiply divide](http://jalammar.github.io/images/numpy/numpy-array-subtract-multiply-divide.png)"
      ]
    },
    {
      "cell_type": "markdown",
      "metadata": {
        "id": "qi60znEt1POX",
        "colab_type": "text"
      },
      "source": [
        "В случае арифметической операции с массивом и числом, `numpy` совершит **трансляцию (broadcasting)**"
      ]
    },
    {
      "cell_type": "markdown",
      "metadata": {
        "id": "6vgHo7V-PulD",
        "colab_type": "text"
      },
      "source": [
        "![numpy array broadcast](http://jalammar.github.io/images/numpy/numpy-array-broadcast.png)"
      ]
    },
    {
      "cell_type": "markdown",
      "metadata": {
        "id": "8dj8HP2L1vK4",
        "colab_type": "text"
      },
      "source": [
        "В случае несовпадающих размерностей, мы ожидаемо получим исключение"
      ]
    },
    {
      "cell_type": "code",
      "metadata": {
        "id": "O5x5FOx51nRV",
        "colab_type": "code",
        "colab": {}
      },
      "source": [
        "arr = np.ones(5)\n",
        "arr2 = np.ones(3)\n",
        "arr + arr2"
      ],
      "execution_count": null,
      "outputs": []
    },
    {
      "cell_type": "markdown",
      "metadata": {
        "id": "yxdoGpZUOXzM",
        "colab_type": "text"
      },
      "source": [
        "### Индексирование"
      ]
    },
    {
      "cell_type": "markdown",
      "metadata": {
        "id": "sKACpr82OXwm",
        "colab_type": "text"
      },
      "source": [
        "В `numpy` реализована мощная система индексирования, позволяющая обращаться к отдельным элементам массива и т.п. Также, работают срезы по аналогии со списками"
      ]
    },
    {
      "cell_type": "markdown",
      "metadata": {
        "id": "ZeIBrWhaOXt-",
        "colab_type": "text"
      },
      "source": [
        "![numpy array slice](http://jalammar.github.io/images/numpy/numpy-array-slice.png)"
      ]
    },
    {
      "cell_type": "markdown",
      "metadata": {
        "id": "_wHMzu4uOXpH",
        "colab_type": "text"
      },
      "source": [
        "### Аггрегации"
      ]
    },
    {
      "cell_type": "markdown",
      "metadata": {
        "id": "Q64iW2GuOXlm",
        "colab_type": "text"
      },
      "source": [
        "Аггрегации - функции типа поиска максимума, минимума, суммы"
      ]
    },
    {
      "cell_type": "markdown",
      "metadata": {
        "id": "LXNAmQMoiKb7",
        "colab_type": "text"
      },
      "source": [
        "![link numpy array aggregation](http://jalammar.github.io/images/numpy/numpy-array-aggregation.png)"
      ]
    },
    {
      "source": [
        "*Задание: создайте с помощью numpy вектор из 179 случайных значений и посчитайте его среднее. Проверьте, что значение, полученное с помощью numpy совпадает с plain python*"
      ],
      "cell_type": "markdown",
      "metadata": {}
    },
    {
      "cell_type": "code",
      "execution_count": null,
      "metadata": {},
      "outputs": [],
      "source": [
        "# PUT YOUR CODE HERE"
      ]
    },
    {
      "cell_type": "markdown",
      "metadata": {
        "id": "GXIJeTiaOXh9",
        "colab_type": "text"
      },
      "source": [
        "### Многомерные массивы (матрицы)"
      ]
    },
    {
      "cell_type": "markdown",
      "metadata": {
        "id": "-zofUWjHiuHA",
        "colab_type": "text"
      },
      "source": [
        "Удобство `numpy` распространяется и на случаи массивов большей размерности"
      ]
    },
    {
      "cell_type": "markdown",
      "metadata": {
        "id": "MhwwDpp_OXVL",
        "colab_type": "text"
      },
      "source": [
        "![numpy array create 2d](http://jalammar.github.io/images/numpy/numpy-array-create-2d.png)"
      ]
    },
    {
      "cell_type": "markdown",
      "metadata": {
        "id": "XtVaBqLKyBkb",
        "colab_type": "text"
      },
      "source": [
        "Если арифметические операции производятся над матрицами одного размера, они так же будут выполнены **поэлементно**"
      ]
    },
    {
      "cell_type": "markdown",
      "metadata": {
        "id": "gb0p2d-6zZIF",
        "colab_type": "text"
      },
      "source": [
        "![numpy matrix arithmetic](http://jalammar.github.io/images/numpy/numpy-matrix-arithmetic.png)"
      ]
    },
    {
      "cell_type": "markdown",
      "metadata": {
        "id": "Oqrjqb8q0L8F",
        "colab_type": "text"
      },
      "source": [
        "Арифметические действия между матрицами разного размера можно проводить, если несовпадающая размерность матрицы равна 1, в таком случае `numpy` опять сделает **broadcasting** и выполнит операцию"
      ]
    },
    {
      "cell_type": "markdown",
      "metadata": {
        "id": "FAL8xACf0Gqm",
        "colab_type": "text"
      },
      "source": [
        "![numpy matrix broadcast](http://jalammar.github.io/images/numpy/numpy-matrix-broadcast.png)"
      ]
    },
    {
      "cell_type": "markdown",
      "metadata": {
        "id": "o6vZkwlS2oiA",
        "colab_type": "text"
      },
      "source": [
        "В случае несовпадения размерностей матриц, получим ожидаемое исключение"
      ]
    },
    {
      "cell_type": "code",
      "metadata": {
        "id": "GthN6E1s2uDU",
        "colab_type": "code",
        "colab": {}
      },
      "source": [
        "ones = np.ones((3, 3))\n",
        "ones_2 = np.ones((2, 2))\n",
        "ones + ones_2"
      ],
      "execution_count": null,
      "outputs": []
    },
    {
      "cell_type": "markdown",
      "metadata": {
        "id": "YZtPacOl21t1",
        "colab_type": "text"
      },
      "source": [
        "Узнать размерность любого объекта `np.array` можно с помощью атрибута `.shape`"
      ]
    },
    {
      "cell_type": "code",
      "metadata": {
        "id": "WR8jg5RN28WO",
        "colab_type": "code",
        "colab": {}
      },
      "source": [
        "ones.shape, ones_2.shape"
      ],
      "execution_count": null,
      "outputs": []
    },
    {
      "cell_type": "markdown",
      "metadata": {
        "id": "PM8k8vn63ENe",
        "colab_type": "text"
      },
      "source": [
        "### Матричное умножение"
      ]
    },
    {
      "cell_type": "markdown",
      "metadata": {
        "id": "sIwln5Q-3LG4",
        "colab_type": "text"
      },
      "source": [
        "Матричное умножение можно вызвать с помощью оператора `@` или метода `.dot`"
      ]
    },
    {
      "cell_type": "code",
      "metadata": {
        "id": "XZ1s6HOf7Kq3",
        "colab_type": "code",
        "colab": {}
      },
      "source": [
        "data = np.array([[1, 2, 3]])\n",
        "powers_of_ten = np.array([[1, 10], [100, 1000], [10000, 100000]])\n",
        "data @ powers_of_ten"
      ],
      "execution_count": null,
      "outputs": []
    },
    {
      "cell_type": "code",
      "metadata": {
        "id": "QLNS61ba7aLP",
        "colab_type": "code",
        "colab": {}
      },
      "source": [
        "data.dot(powers_of_ten)"
      ],
      "execution_count": null,
      "outputs": []
    },
    {
      "cell_type": "markdown",
      "metadata": {
        "id": "xjNR-qtw7u8k",
        "colab_type": "text"
      },
      "source": [
        "![numpy matrix dot product 1](http://jalammar.github.io/images/numpy/numpy-matrix-dot-product-1.png)"
      ]
    },
    {
      "cell_type": "markdown",
      "metadata": {
        "id": "CBiVBO-e766t",
        "colab_type": "text"
      },
      "source": [
        "![numpy matrix dot product 2](http://jalammar.github.io/images/numpy/numpy-matrix-dot-product-2.png)"
      ]
    },
    {
      "cell_type": "markdown",
      "metadata": {
        "id": "p5i073lK9K6-",
        "colab_type": "text"
      },
      "source": [
        "В случае массивов, матричное произведение превращается в скалярное произведение векторов"
      ]
    },
    {
      "cell_type": "code",
      "metadata": {
        "id": "Azfxdebm8DoH",
        "colab_type": "code",
        "colab": {}
      },
      "source": [
        "arr = np.ones(5)\n",
        "arr_2 = np.arange(5)\n",
        "arr, arr_2"
      ],
      "execution_count": null,
      "outputs": []
    },
    {
      "cell_type": "code",
      "metadata": {
        "id": "KvCM_Z4-9DR4",
        "colab_type": "code",
        "colab": {}
      },
      "source": [
        "arr @ arr_2, arr.dot(arr_2)"
      ],
      "execution_count": null,
      "outputs": []
    },
    {
      "cell_type": "markdown",
      "metadata": {
        "id": "EmTHmhMd8DMY",
        "colab_type": "text"
      },
      "source": [
        "### Индексирование в матрицах"
      ]
    },
    {
      "cell_type": "markdown",
      "metadata": {
        "id": "0jNjgeZM_pae",
        "colab_type": "text"
      },
      "source": [
        "![numpy matrix indexing](http://jalammar.github.io/images/numpy/numpy-matrix-indexing.png)"
      ]
    },
    {
      "cell_type": "markdown",
      "metadata": {
        "id": "SxiAsuIIAAST",
        "colab_type": "text"
      },
      "source": [
        "### Аггрегации в матрицах"
      ]
    },
    {
      "cell_type": "markdown",
      "metadata": {
        "id": "RCpDgXJnAICT",
        "colab_type": "text"
      },
      "source": [
        "![numpy matrix aggregation 1](http://jalammar.github.io/images/numpy/numpy-matrix-aggregation-1.png)"
      ]
    },
    {
      "cell_type": "markdown",
      "metadata": {
        "id": "CHZuWRhlAOmf",
        "colab_type": "text"
      },
      "source": [
        "![numpy matrix aggregation 4](http://jalammar.github.io/images/numpy/numpy-matrix-aggregation-4.png)"
      ]
    },
    {
      "source": [
        "*Задание: создайте матрицу со случайными значениями (размерность выберите сами).*\n",
        "\n",
        "1. *Найдите максимальное и минимальное значения в матрице*\n",
        "2. *Теперь вычтите из всех значений матрицы минимальное, а результат разделите на разницу между максимальным и минимальным*\n",
        "3. *Теперь в получившейся матрице заново найдите минимальное и максимальное значения*"
      ],
      "cell_type": "markdown",
      "metadata": {}
    },
    {
      "cell_type": "code",
      "execution_count": null,
      "metadata": {},
      "outputs": [],
      "source": [
        "# PUT YOUR CODE HERE"
      ]
    },
    {
      "cell_type": "markdown",
      "metadata": {
        "id": "HjL9SddCAihV",
        "colab_type": "text"
      },
      "source": [
        "### Транспонирование и изменение формы"
      ]
    },
    {
      "cell_type": "markdown",
      "metadata": {
        "id": "9daQj3qQBSdm",
        "colab_type": "text"
      },
      "source": [
        "Транспонирование - операция замены строк на столбцы"
      ]
    },
    {
      "cell_type": "markdown",
      "metadata": {
        "id": "zEHRShvPB2_k",
        "colab_type": "text"
      },
      "source": [
        "![numpy transpose](http://jalammar.github.io/images/numpy/numpy-transpose.png)"
      ]
    },
    {
      "cell_type": "markdown",
      "metadata": {
        "id": "hrJsyxZMCKdP",
        "colab_type": "text"
      },
      "source": [
        "![numpy reshape](http://jalammar.github.io/images/numpy/numpy-reshape.png)"
      ]
    },
    {
      "cell_type": "code",
      "metadata": {
        "id": "MAEPLNhI7aJo",
        "colab_type": "code",
        "colab": {}
      },
      "source": [
        "data.reshape(3, -1)"
      ],
      "execution_count": null,
      "outputs": []
    },
    {
      "cell_type": "markdown",
      "metadata": {
        "id": "jNL9Xp1-DXoz",
        "colab_type": "text"
      },
      "source": [
        "### Больше измерений\n",
        "\n"
      ]
    },
    {
      "cell_type": "markdown",
      "metadata": {
        "id": "SJNzbwShDvBw",
        "colab_type": "text"
      },
      "source": [
        "![numpy 3d array](http://jalammar.github.io/images/numpy/numpy-3d-array.png)"
      ]
    },
    {
      "cell_type": "markdown",
      "metadata": {
        "id": "y74n7OJWD4g6",
        "colab_type": "text"
      },
      "source": [
        "![numpy 3d array creation](http://jalammar.github.io/images/numpy/numpy-3d-array-creation.png)"
      ]
    },
    {
      "cell_type": "markdown",
      "metadata": {
        "id": "FbEsU2mmEO0A",
        "colab_type": "text"
      },
      "source": [
        "### Практический пример - формула среднеквадратичной ошибки"
      ]
    },
    {
      "cell_type": "code",
      "metadata": {
        "id": "EnKCsjzfEUtb",
        "colab_type": "code",
        "colab": {}
      },
      "source": [
        "y_pred = [0, 1, 2, 3, 4, 5, 6, 7, 8, 9, 10, 13, 15, 11, 10, 9, 12, 4, 2, 0]\n",
        "y = [1.1, 1.2, 3, 3, 3, 9, 5, 10, 3, 10, 10, 2.3, 4.4, 2, 2, 9, 12, 2, 0, 0]"
      ],
      "execution_count": null,
      "outputs": []
    },
    {
      "cell_type": "code",
      "metadata": {
        "id": "7F-r2C__E5bY",
        "colab_type": "code",
        "colab": {}
      },
      "source": [
        "import matplotlib.pyplot as plt\n",
        "import seaborn as sns\n",
        "sns.set()\n",
        "\n",
        "fig, ax = plt.subplots(figsize=(14, 8))\n",
        "ax.plot(y, label='y', marker='o')\n",
        "ax.plot(y_pred, label='y_pred', marker='o')\n",
        "ax.legend()\n",
        "ax.set_xlabel('x')\n",
        "ax.set_ylabel('y')\n",
        "plt.show()"
      ],
      "execution_count": null,
      "outputs": []
    },
    {
      "cell_type": "markdown",
      "metadata": {
        "id": "mQGud9XbEYME",
        "colab_type": "text"
      },
      "source": [
        "![mean square error formula](http://jalammar.github.io/images/numpy/mean-square-error-formula.png)"
      ]
    },
    {
      "cell_type": "code",
      "metadata": {
        "id": "W5cKn38VGSpC",
        "colab_type": "code",
        "colab": {}
      },
      "source": [
        "mse = 0.0\n",
        "n = len(y)\n",
        "for i in range(n):\n",
        "    mse += (y_pred[i] - y[i])**2 \n",
        "mse /= n\n",
        "print(f'MSE = {mse}')"
      ],
      "execution_count": null,
      "outputs": []
    },
    {
      "cell_type": "code",
      "metadata": {
        "id": "kFXkcTy3Fwx5",
        "colab_type": "code",
        "colab": {}
      },
      "source": [
        "y = np.array(y)\n",
        "y_pred = np.array(y_pred)\n",
        "\n",
        "mse = ((y_pred - y) ** 2).mean()\n",
        "print(f'MSE = {mse}')"
      ],
      "execution_count": null,
      "outputs": []
    },
    {
      "source": [
        "### Сравнение скорости"
      ],
      "cell_type": "markdown",
      "metadata": {}
    },
    {
      "cell_type": "code",
      "execution_count": null,
      "metadata": {},
      "outputs": [],
      "source": [
        "def vanilla_mse(y1, y2):\n",
        "    n = len(y1)\n",
        "    mse = 0.0\n",
        "    for i in range(n):\n",
        "        mse += (y1[i] - y2[i])**2\n",
        "    mse /= n\n",
        "    return mse"
      ]
    },
    {
      "cell_type": "code",
      "execution_count": null,
      "metadata": {},
      "outputs": [],
      "source": [
        "def numpy_mse(y1, y2):\n",
        "    return ((y1 - y2)**2).mean()"
      ]
    },
    {
      "cell_type": "code",
      "execution_count": null,
      "metadata": {},
      "outputs": [],
      "source": [
        "from time import perf_counter\n",
        "\n",
        "vanilla_times = []\n",
        "numpy_times = []\n",
        "sizes = [2**i for i in range(10, 25)]\n",
        "for size in sizes:\n",
        "    y1 = np.random.random(size)\n",
        "    y2 = np.random.random(size)\n",
        "    numpy_start = perf_counter()\n",
        "    mse = numpy_mse(y1, y2)\n",
        "    numpy_end = perf_counter()\n",
        "    numpy_times.append(numpy_end - numpy_start)\n",
        "    \n",
        "    y1 = list(y1)\n",
        "    y2 = list(y2)\n",
        "    vanilla_start = perf_counter()\n",
        "    mse = vanilla_mse(y1, y2)\n",
        "    vanilla_end = perf_counter()\n",
        "    vanilla_times.append(vanilla_end - vanilla_start)"
      ]
    },
    {
      "cell_type": "code",
      "execution_count": null,
      "metadata": {},
      "outputs": [],
      "source": [
        "fig, ax = plt.subplots(figsize=(16, 9))\n",
        "ax.plot(sizes, vanilla_times, label='vanilla')\n",
        "ax.plot(sizes, numpy_times, label='numpy')\n",
        "ax.legend()\n",
        "plt.show()"
      ]
    },
    {
      "cell_type": "markdown",
      "metadata": {
        "id": "IOC4Ko3Myupf",
        "colab_type": "text"
      },
      "source": [
        "## Pandas"
      ]
    },
    {
      "cell_type": "markdown",
      "metadata": {
        "id": "28oWrcCUyzlL",
        "colab_type": "text"
      },
      "source": [
        "![Pandas logo](https://upload.wikimedia.org/wikipedia/commons/thumb/e/ed/Pandas_logo.svg/1280px-Pandas_logo.svg.png)"
      ]
    },
    {
      "cell_type": "markdown",
      "metadata": {
        "id": "AUxOg0Qs9oNL",
        "colab_type": "text"
      },
      "source": [
        "Библиотека Pandas представляет удобный способ организации табличных данных - объект `pandas.DataFrame`"
      ]
    },
    {
      "cell_type": "code",
      "metadata": {
        "id": "97WSFWdOzHAy",
        "colab_type": "code",
        "colab": {}
      },
      "source": [
        "import pandas as pd"
      ],
      "execution_count": null,
      "outputs": []
    },
    {
      "cell_type": "markdown",
      "metadata": {
        "id": "WyyrsHIr908g",
        "colab_type": "text"
      },
      "source": [
        "`pd.DataFrame` можно создать как из уже существующих матриц `np.array`, так и загрузив с диска. Поддерживается импорт большого набора форматов (csv, xlsx, json, parquet, feather, ...)"
      ]
    },
    {
      "cell_type": "code",
      "metadata": {
        "id": "h7Dtu74N-6XC",
        "colab_type": "code",
        "colab": {}
      },
      "source": [
        "!wget -O tiny_dataset.csv 'https://raw.githubusercontent.com/astromid/nn-course-179/master/seminars/1-numpy-pandas/data/tiny_dataset.csv?token=ABHK5OOHPUB4LWDE4HX2IQ3ADWRSK'"
      ],
      "execution_count": null,
      "outputs": []
    },
    {
      "cell_type": "markdown",
      "metadata": {
        "id": "rBNfABw8-GPs",
        "colab_type": "text"
      },
      "source": [
        "![excel to pandas](http://jalammar.github.io/images/pandas-intro/0%20excel-to-pandas.png)"
      ]
    },
    {
      "cell_type": "code",
      "execution_count": null,
      "metadata": {},
      "outputs": [],
      "source": [
        "df = pd.read_csv('tiny_dataset.csv')"
      ]
    },
    {
      "cell_type": "code",
      "metadata": {
        "id": "I1AGEClU9wuZ",
        "colab_type": "code",
        "colab": {}
      },
      "source": [
        "df.head(2)"
      ],
      "execution_count": null,
      "outputs": []
    },
    {
      "cell_type": "code",
      "metadata": {
        "id": "lXXyfNxf_dke",
        "colab_type": "code",
        "colab": {}
      },
      "source": [
        "df.tail(1)"
      ],
      "execution_count": null,
      "outputs": []
    },
    {
      "cell_type": "code",
      "execution_count": null,
      "metadata": {},
      "outputs": [],
      "source": [
        "df.info()"
      ]
    },
    {
      "cell_type": "markdown",
      "metadata": {
        "id": "b-jN8znNLjjl",
        "colab_type": "text"
      },
      "source": [
        "### Выбор данных"
      ]
    },
    {
      "cell_type": "markdown",
      "metadata": {
        "id": "Md-2dkcoLv1l",
        "colab_type": "text"
      },
      "source": [
        "![select column](http://jalammar.github.io/images/pandas-intro/2%20select-column.png)\n",
        "\n"
      ]
    },
    {
      "cell_type": "markdown",
      "metadata": {
        "id": "Wl0JuuZ9MGbY",
        "colab_type": "text"
      },
      "source": [
        "![select rows](http://jalammar.github.io/images/pandas-intro/3%20select-rows.png)"
      ]
    },
    {
      "cell_type": "markdown",
      "metadata": {
        "id": "VDxfNewcMRMB",
        "colab_type": "text"
      },
      "source": [
        "![select column and rows](http://jalammar.github.io/images/pandas-intro/4%20select_column-and-rows.png)"
      ]
    },
    {
      "cell_type": "markdown",
      "metadata": {
        "id": "tBvlcKhjMWUP",
        "colab_type": "text"
      },
      "source": [
        "### Фильтрация"
      ]
    },
    {
      "cell_type": "markdown",
      "metadata": {
        "id": "fNm7h5JFMeFz",
        "colab_type": "text"
      },
      "source": [
        "![pandas filter 1](http://jalammar.github.io/images/pandas-intro/pandas-filter-1.png)"
      ]
    },
    {
      "cell_type": "markdown",
      "metadata": {
        "id": "UuVAqQ_aMrVq",
        "colab_type": "text"
      },
      "source": [
        "![filter](http://jalammar.github.io/images/pandas-intro/5%20filter.png)"
      ]
    },
    {
      "cell_type": "markdown",
      "metadata": {
        "id": "Jh6Yu8aTMuiq",
        "colab_type": "text"
      },
      "source": [
        "### Группировка"
      ]
    },
    {
      "cell_type": "markdown",
      "metadata": {
        "id": "A82BVtO2M8S3",
        "colab_type": "text"
      },
      "source": [
        "![group by](http://jalammar.github.io/images/pandas-intro/8%20group-by.png)"
      ]
    },
    {
      "cell_type": "markdown",
      "metadata": {
        "id": "vl9K2T6JObNy",
        "colab_type": "text"
      },
      "source": [
        "### Создание новых колонок"
      ]
    },
    {
      "cell_type": "markdown",
      "metadata": {
        "id": "uuRKtOCcOfkZ",
        "colab_type": "text"
      },
      "source": [
        "![create new column](http://jalammar.github.io/images/pandas-intro/9%20create-new-column.png)"
      ]
    },
    {
      "cell_type": "code",
      "execution_count": null,
      "metadata": {},
      "outputs": [],
      "source": [
        "df['Genre'].value_counts()"
      ]
    },
    {
      "source": [
        "## Анализ датасета Титаник"
      ],
      "cell_type": "markdown",
      "metadata": {}
    },
    {
      "cell_type": "code",
      "execution_count": null,
      "metadata": {},
      "outputs": [],
      "source": [
        "!wget -O titanic.csv ''"
      ]
    },
    {
      "source": [
        "*Задание*\n",
        "- *Сколько всего пассажиров погибло, а сколько выжило? В абсолютных числах и в %*\n",
        "- *Что вы можете сказать о средней выживаемости среди пассажиров разного класса?*\n",
        "- *Что вы можете сказать о среднем возрасте среди группы выживших и погибших?*\n",
        "- *Посчитайте среднюю выживаемость среди женщин и мужчин*\n",
        "- *Сколько всего среди погибших было женщин? А сколько мужчин? А среди выживших?*\n",
        "- *Рассмотрим отдельно группы детей (возраст < 18) и взрослых (> 18). Отличается ли выживаемость среди них?*\n",
        "- *Сравните выживаемость женщин и мужчин среди детей и взрослых. Отличаются ли они?*"
      ],
      "cell_type": "markdown",
      "metadata": {}
    },
    {
      "cell_type": "code",
      "execution_count": null,
      "metadata": {},
      "outputs": [],
      "source": [
        "# PUT YOUR CODE HERE"
      ]
    },
    {
      "cell_type": "markdown",
      "metadata": {
        "id": "_KRB9vg5Ky5l",
        "colab_type": "text"
      },
      "source": [
        "# Представление данных"
      ]
    },
    {
      "cell_type": "markdown",
      "metadata": {
        "id": "RqeW_9zbK3ox",
        "colab_type": "text"
      },
      "source": [
        "![numpy audio](http://jalammar.github.io/images/numpy/numpy-audio.png)"
      ]
    },
    {
      "cell_type": "markdown",
      "metadata": {
        "id": "dflCn8oIK-H-",
        "colab_type": "text"
      },
      "source": [
        "![numpy grayscale image](http://jalammar.github.io/images/numpy/numpy-grayscale-image.png)"
      ]
    },
    {
      "cell_type": "markdown",
      "metadata": {
        "id": "z-DVJnLRLGDv",
        "colab_type": "text"
      },
      "source": [
        "![numpy color image](http://jalammar.github.io/images/numpy/numpy-color-image.png)"
      ]
    },
    {
      "cell_type": "markdown",
      "metadata": {
        "id": "tcDJ7_3gLJ05",
        "colab_type": "text"
      },
      "source": [
        "![numpy nlp vocabulary](http://jalammar.github.io/images/numpy/numpy-nlp-vocabulary.png)"
      ]
    },
    {
      "cell_type": "markdown",
      "metadata": {
        "id": "ee4AoPmaLRqt",
        "colab_type": "text"
      },
      "source": [
        "![numpy nlp tokenization](http://jalammar.github.io/images/numpy/numpy-nlp-tokenization.png)"
      ]
    },
    {
      "cell_type": "markdown",
      "metadata": {
        "id": "zk0OenDXLXiu",
        "colab_type": "text"
      },
      "source": [
        "![numpy nlp ids](http://jalammar.github.io/images/numpy/numpy-nlp-ids.png)"
      ]
    },
    {
      "cell_type": "code",
      "metadata": {
        "id": "IIR9b-wMLEXf",
        "colab_type": "code",
        "colab": {}
      },
      "source": [],
      "execution_count": null,
      "outputs": []
    }
  ]
}