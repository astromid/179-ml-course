{
 "metadata": {
  "language_info": {
   "codemirror_mode": {
    "name": "ipython",
    "version": 3
   },
   "file_extension": ".py",
   "mimetype": "text/x-python",
   "name": "python",
   "nbconvert_exporter": "python",
   "pygments_lexer": "ipython3",
   "version": "3.9.1"
  },
  "orig_nbformat": 2,
  "kernelspec": {
   "name": "python3",
   "display_name": "Python 3.9.1 64-bit ('nn179': conda)",
   "metadata": {
    "interpreter": {
     "hash": "b535a82a3b9259ae693695d68fa86b08ae8b3bec72aa6a0359cf505f9926a8ce"
    }
   }
  }
 },
 "nbformat": 4,
 "nbformat_minor": 2,
 "cells": [
  {
   "cell_type": "code",
   "execution_count": null,
   "metadata": {},
   "outputs": [],
   "source": [
    "!wget -O ex2_train.csv 'https://raw.githubusercontent.com/astromid/nn-course-179/master/seminars/02-linear-regression/ex2_train.csv?token=ABHK5OIHKPRB6QH2T5REY43AGD2N2'\n",
    "!wget -O ex2_test.csv 'https://raw.githubusercontent.com/astromid/nn-course-179/master/seminars/02-linear-regression/ex2_test.csv?token=ABHK5OKYFJUMF6V3VX2LF4TAGD2PQ'"
   ]
  },
  {
   "cell_type": "code",
   "execution_count": null,
   "metadata": {},
   "outputs": [],
   "source": [
    "import numpy as np\n",
    "import pandas as pd\n",
    "import matplotlib.pyplot as plt\n",
    "import seaborn as sns\n",
    "sns.set()"
   ]
  },
  {
   "source": [
    "# Переобучение"
   ],
   "cell_type": "markdown",
   "metadata": {}
  },
  {
   "source": [
    "# Работа с признаками"
   ],
   "cell_type": "markdown",
   "metadata": {}
  },
  {
   "source": [
    "## Housing dataset"
   ],
   "cell_type": "markdown",
   "metadata": {}
  },
  {
   "cell_type": "code",
   "execution_count": null,
   "metadata": {},
   "outputs": [],
   "source": [
    "!wget -O housing.csv 'https://raw.githubusercontent.com/astromid/nn-course-179/master/seminars/02-linear-regression/housing.csv?token=ABHK5OPKDHQW6E3QEEKEPELAHITEM'"
   ]
  },
  {
   "source": [
    "В датасете содержится информация об отпускных ценах домов, проданных в течение июля, августа и сентября 1987 года в канадском городе Виндзоре.\n",
    "\n",
    "Признаки:\n",
    " - размер участка земли в собственности\n",
    " - число спален\n",
    " - число полностью оборудованных ванных комнат\n",
    " - число этажей\n",
    " - наличие подъездной дороги\n",
    " - наличие комнаты отдыха\n",
    " - наличие обустроенного подвального помещения\n",
    " - наличие водяного отопления на газе\n",
    " - наличие центрального кондиционирования воздуха\n",
    " - число мест в гараже\n",
    " - расположение в привилегированном районе"
   ],
   "cell_type": "markdown",
   "metadata": {}
  },
  {
   "cell_type": "code",
   "execution_count": null,
   "metadata": {},
   "outputs": [],
   "source": [
    "# визуализация коэффициентов линейной регрессии\n",
    "def visualize_coefficients(coefs, feature_names):\n",
    "    coef_indexes = np.argsort(coefs)\n",
    "\n",
    "    fig, ax = plt.subplots(figsize=(16, 9))\n",
    "    ax.bar(np.arange(len(coefs)), coefs[coef_indexes], color=\"red\")\n",
    "    feature_names = np.array(feature_names)\n",
    "    ax.set_xticks(np.arange(0, len(coefs)))\n",
    "    ax.set_xticklabels(feature_names[coef_indexes], rotation=60, ha=\"right\", fontsize=16)\n",
    "    plt.show()"
   ]
  },
  {
   "source": [
    "# Самостоятельная работа"
   ],
   "cell_type": "markdown",
   "metadata": {}
  },
  {
   "cell_type": "code",
   "execution_count": null,
   "metadata": {},
   "outputs": [],
   "source": [
    "!wget -O kc_house_data.csv 'https://raw.githubusercontent.com/astromid/nn-course-179/master/seminars/02-linear-regression/kc_house_data.csv?token=ABHK5OIQP7ZQQHXMLQIUAQ3AHITHS'"
   ]
  },
  {
   "source": [
    "*Задание*\n",
    "\n",
    "*Будем решать задачу регрессии, предсказывая цену на дом для другого датасета*\n",
    "\n",
    "*1. Загрузить данные, посмотреть на них*\n",
    "\n",
    "*2. Разделить выборку на три части: трейн, валидация и тест (70/10/20)*\n",
    "\n",
    "*3. Подобрать набор признаков, которые дают наилучшее качество на вашей валидации*\n",
    "\n",
    "*4. Провести финальную проверку на тесте, зафиксировать полученное качество*"
   ],
   "cell_type": "markdown",
   "metadata": {}
  },
  {
   "cell_type": "code",
   "execution_count": null,
   "metadata": {},
   "outputs": [],
   "source": []
  }
 ]
}