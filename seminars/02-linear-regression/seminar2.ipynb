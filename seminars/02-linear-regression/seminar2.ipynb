{
 "metadata": {
  "language_info": {
   "codemirror_mode": {
    "name": "ipython",
    "version": 3
   },
   "file_extension": ".py",
   "mimetype": "text/x-python",
   "name": "python",
   "nbconvert_exporter": "python",
   "pygments_lexer": "ipython3",
   "version": "3.9.1-final"
  },
  "orig_nbformat": 2,
  "kernelspec": {
   "name": "python3",
   "display_name": "Python 3",
   "language": "python"
  }
 },
 "nbformat": 4,
 "nbformat_minor": 2,
 "cells": [
  {
   "cell_type": "code",
   "execution_count": null,
   "metadata": {},
   "outputs": [],
   "source": [
    "import numpy as np\n",
    "import pandas as pd\n",
    "import matplotlib.pyplot as plt\n",
    "import seaborn as sns\n",
    "sns.set()"
   ]
  },
  {
   "source": [
    "# Закон Гука"
   ],
   "cell_type": "markdown",
   "metadata": {}
  },
  {
   "source": [
    "## Загрузка и визуализация данных"
   ],
   "cell_type": "markdown",
   "metadata": {}
  },
  {
   "cell_type": "code",
   "execution_count": null,
   "metadata": {},
   "outputs": [],
   "source": [
    "!wget -O elasticity.csv 'https://raw.githubusercontent.com/astromid/nn-course-179/master/seminars/02-linear-regression/elasticity.csv?token=ABHK5OOPGXNML5O2APQZ5PDAGDJXM'"
   ]
  },
  {
   "cell_type": "code",
   "execution_count": null,
   "metadata": {},
   "outputs": [],
   "source": [
    "elasticity_df = pd.read_csv('elasticity.csv')\n",
    "elasticity_df.head()"
   ]
  },
  {
   "cell_type": "code",
   "execution_count": null,
   "metadata": {},
   "outputs": [],
   "source": [
    "elasticity_df.info()"
   ]
  },
  {
   "cell_type": "code",
   "execution_count": null,
   "metadata": {},
   "outputs": [],
   "source": [
    "fig, ax = plt.subplots(figsize=(16, 9))\n",
    "sns.scatterplot(x=elasticity_df['x'], y=elasticity_df['F'], ax=ax)\n",
    "ax.set_xlabel(\"x, m\", fontsize=20)\n",
    "ax.set_ylabel(\"F, N\", fontsize=20)\n",
    "ax.set_title(\"Измеренная зависимость силы упругости от величины растяжения\", fontsize=22)\n",
    "plt.show()"
   ]
  },
  {
   "source": [
    "## Линейная регрессия"
   ],
   "cell_type": "markdown",
   "metadata": {}
  },
  {
   "source": [
    "### Аналитическое решение (одномерная регрессия)"
   ],
   "cell_type": "markdown",
   "metadata": {}
  },
  {
   "cell_type": "code",
   "execution_count": null,
   "metadata": {},
   "outputs": [],
   "source": [
    "x = elasticity_df['x']\n",
    "y = elasticity_df['F']"
   ]
  },
  {
   "cell_type": "code",
   "execution_count": null,
   "metadata": {},
   "outputs": [],
   "source": [
    "# Задание: реализуйте подсчет w по формуле\n",
    "# write your code here\n",
    "w = \n",
    "print(f'k_упр = {w}')"
   ]
  },
  {
   "cell_type": "code",
   "execution_count": null,
   "metadata": {},
   "outputs": [],
   "source": [
    "# Задание: посчитайте значение MSE для полученной прямой\n",
    "y_pred = \n",
    "mse = \n",
    "print(f'MSE: {mse}')"
   ]
  },
  {
   "cell_type": "code",
   "execution_count": null,
   "metadata": {},
   "outputs": [],
   "source": [
    "# visualize\n",
    "fig, ax = plt.subplots(figsize=(16, 9))\n",
    "ax.plot(x, w * x, label='predicted', color='green')\n",
    "sns.scatterplot(x=elasticity_df['x'], y=elasticity_df['F'], label='measured', ax=ax)\n",
    "ax.set_xlabel(\"x, m\", fontsize=20)\n",
    "ax.set_ylabel(\"F, N\", fontsize=20)\n",
    "ax.set_title(\"Измеренная зависимость силы упругости от величины растяжения\", fontsize=22)\n",
    "plt.show()"
   ]
  },
  {
   "source": [
    "### Аналитическое решение (многомерная регрессия)"
   ],
   "cell_type": "markdown",
   "metadata": {}
  },
  {
   "cell_type": "code",
   "execution_count": null,
   "metadata": {},
   "outputs": [],
   "source": [
    "# bias trick\n",
    "bias = np.ones_like(x)\n",
    "X = np.column_stack((bias, x))"
   ]
  },
  {
   "cell_type": "code",
   "execution_count": null,
   "metadata": {},
   "outputs": [],
   "source": [
    "# Задание: реализуйте решение по формуле для множественной регрессии\n",
    "# write your code here\n",
    "# tip: use np.linalg.inv for matrix inversion, .T for transpore, @ for matrix multiplication\n",
    "w = \n",
    "print(f'w0 = {w[0]}, w1 = {w[1]}')"
   ]
  },
  {
   "cell_type": "code",
   "execution_count": null,
   "metadata": {},
   "outputs": [],
   "source": [
    "# Задание: посчитайте MSE для новой прямой, сравните с предыдущим значением\n",
    "y_pred = \n",
    "mse = \n",
    "print(f'MSE: {mse}')"
   ]
  },
  {
   "cell_type": "code",
   "execution_count": null,
   "metadata": {},
   "outputs": [],
   "source": [
    "fig, ax = plt.subplots(figsize=(16, 9))\n",
    "ax.plot(x, w[0] + w[1] * x, label='predicted', color='green')\n",
    "sns.scatterplot(x=elasticity_df['x'], y=elasticity_df['F'], label='measured', ax=ax)\n",
    "ax.set_xlabel(\"x, m\", fontsize=20)\n",
    "ax.set_ylabel(\"F, N\", fontsize=20)\n",
    "ax.set_title(\"Измеренная зависимость силы упругости от величины растяжения\", fontsize=22)\n",
    "plt.show()"
   ]
  },
  {
   "source": [
    "### Реализация из scikit-learn"
   ],
   "cell_type": "markdown",
   "metadata": {}
  },
  {
   "cell_type": "code",
   "execution_count": null,
   "metadata": {},
   "outputs": [],
   "source": []
  },
  {
   "source": [
    "# Часть 2"
   ],
   "cell_type": "markdown",
   "metadata": {}
  },
  {
   "cell_type": "code",
   "execution_count": null,
   "metadata": {},
   "outputs": [],
   "source": [
    "!wget -O ex2_train.csv 'https://raw.githubusercontent.com/astromid/nn-course-179/master/seminars/02-linear-regression/ex2_train.csv?token=ABHK5OPXQYQIT7JNWX3Y6SDAGDJ3G'\n",
    "!wget -O ex2_test.csv 'https://raw.githubusercontent.com/astromid/nn-course-179/master/seminars/02-linear-regression/ex2_test.csv?token=ABHK5ON35PMRSHRQNMKS5ITAGDJ46'"
   ]
  },
  {
   "cell_type": "code",
   "execution_count": null,
   "metadata": {},
   "outputs": [],
   "source": []
  }
 ]
}