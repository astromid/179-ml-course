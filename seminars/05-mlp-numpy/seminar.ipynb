{
  "nbformat": 4,
  "nbformat_minor": 0,
  "metadata": {
    "colab": {
      "name": "OneLayerNet.ipynb",
      "provenance": [],
      "collapsed_sections": []
    },
    "kernelspec": {
      "name": "python3",
      "display_name": "Python 3"
    },
    "language_info": {
      "name": "python"
    },
    "widgets": {
      "application/vnd.jupyter.widget-state+json": {
        "7f801485a80c4fd7ad9e7d1b56919dcf": {
          "model_module": "@jupyter-widgets/controls",
          "model_name": "HBoxModel",
          "state": {
            "_view_name": "HBoxView",
            "_dom_classes": [],
            "_model_name": "HBoxModel",
            "_view_module": "@jupyter-widgets/controls",
            "_model_module_version": "1.5.0",
            "_view_count": null,
            "_view_module_version": "1.5.0",
            "box_style": "",
            "layout": "IPY_MODEL_be351a8da9f04c4ab75f6a29097763fe",
            "_model_module": "@jupyter-widgets/controls",
            "children": [
              "IPY_MODEL_f1b773382d044704b0c1d6bc032a15e8",
              "IPY_MODEL_d2cfa688b92c4a7fa6224f4ee0b81ea4"
            ]
          }
        },
        "be351a8da9f04c4ab75f6a29097763fe": {
          "model_module": "@jupyter-widgets/base",
          "model_name": "LayoutModel",
          "state": {
            "_view_name": "LayoutView",
            "grid_template_rows": null,
            "right": null,
            "justify_content": null,
            "_view_module": "@jupyter-widgets/base",
            "overflow": null,
            "_model_module_version": "1.2.0",
            "_view_count": null,
            "flex_flow": null,
            "width": null,
            "min_width": null,
            "border": null,
            "align_items": null,
            "bottom": null,
            "_model_module": "@jupyter-widgets/base",
            "top": null,
            "grid_column": null,
            "overflow_y": null,
            "overflow_x": null,
            "grid_auto_flow": null,
            "grid_area": null,
            "grid_template_columns": null,
            "flex": null,
            "_model_name": "LayoutModel",
            "justify_items": null,
            "grid_row": null,
            "max_height": null,
            "align_content": null,
            "visibility": null,
            "align_self": null,
            "height": null,
            "min_height": null,
            "padding": null,
            "grid_auto_rows": null,
            "grid_gap": null,
            "max_width": null,
            "order": null,
            "_view_module_version": "1.2.0",
            "grid_template_areas": null,
            "object_position": null,
            "object_fit": null,
            "grid_auto_columns": null,
            "margin": null,
            "display": null,
            "left": null
          }
        },
        "f1b773382d044704b0c1d6bc032a15e8": {
          "model_module": "@jupyter-widgets/controls",
          "model_name": "FloatProgressModel",
          "state": {
            "_view_name": "ProgressView",
            "style": "IPY_MODEL_4a99a2e688fa4a00aa6fbbcfe8f47362",
            "_dom_classes": [],
            "description": "Epoch: 100%",
            "_model_name": "FloatProgressModel",
            "bar_style": "success",
            "max": 20,
            "_view_module": "@jupyter-widgets/controls",
            "_model_module_version": "1.5.0",
            "value": 20,
            "_view_count": null,
            "_view_module_version": "1.5.0",
            "orientation": "horizontal",
            "min": 0,
            "description_tooltip": null,
            "_model_module": "@jupyter-widgets/controls",
            "layout": "IPY_MODEL_57a1988814da4edb9b72dd103623e418"
          }
        },
        "d2cfa688b92c4a7fa6224f4ee0b81ea4": {
          "model_module": "@jupyter-widgets/controls",
          "model_name": "HTMLModel",
          "state": {
            "_view_name": "HTMLView",
            "style": "IPY_MODEL_c13c56a93df049ee89c96d06ad849256",
            "_dom_classes": [],
            "description": "",
            "_model_name": "HTMLModel",
            "placeholder": "​",
            "_view_module": "@jupyter-widgets/controls",
            "_model_module_version": "1.5.0",
            "value": " 20/20 [03:41&lt;00:00, 11.10s/it]",
            "_view_count": null,
            "_view_module_version": "1.5.0",
            "description_tooltip": null,
            "_model_module": "@jupyter-widgets/controls",
            "layout": "IPY_MODEL_ae27c3b3d8b84e659e920dda8840dac8"
          }
        },
        "4a99a2e688fa4a00aa6fbbcfe8f47362": {
          "model_module": "@jupyter-widgets/controls",
          "model_name": "ProgressStyleModel",
          "state": {
            "_view_name": "StyleView",
            "_model_name": "ProgressStyleModel",
            "description_width": "initial",
            "_view_module": "@jupyter-widgets/base",
            "_model_module_version": "1.5.0",
            "_view_count": null,
            "_view_module_version": "1.2.0",
            "bar_color": null,
            "_model_module": "@jupyter-widgets/controls"
          }
        },
        "57a1988814da4edb9b72dd103623e418": {
          "model_module": "@jupyter-widgets/base",
          "model_name": "LayoutModel",
          "state": {
            "_view_name": "LayoutView",
            "grid_template_rows": null,
            "right": null,
            "justify_content": null,
            "_view_module": "@jupyter-widgets/base",
            "overflow": null,
            "_model_module_version": "1.2.0",
            "_view_count": null,
            "flex_flow": null,
            "width": null,
            "min_width": null,
            "border": null,
            "align_items": null,
            "bottom": null,
            "_model_module": "@jupyter-widgets/base",
            "top": null,
            "grid_column": null,
            "overflow_y": null,
            "overflow_x": null,
            "grid_auto_flow": null,
            "grid_area": null,
            "grid_template_columns": null,
            "flex": null,
            "_model_name": "LayoutModel",
            "justify_items": null,
            "grid_row": null,
            "max_height": null,
            "align_content": null,
            "visibility": null,
            "align_self": null,
            "height": null,
            "min_height": null,
            "padding": null,
            "grid_auto_rows": null,
            "grid_gap": null,
            "max_width": null,
            "order": null,
            "_view_module_version": "1.2.0",
            "grid_template_areas": null,
            "object_position": null,
            "object_fit": null,
            "grid_auto_columns": null,
            "margin": null,
            "display": null,
            "left": null
          }
        },
        "c13c56a93df049ee89c96d06ad849256": {
          "model_module": "@jupyter-widgets/controls",
          "model_name": "DescriptionStyleModel",
          "state": {
            "_view_name": "StyleView",
            "_model_name": "DescriptionStyleModel",
            "description_width": "",
            "_view_module": "@jupyter-widgets/base",
            "_model_module_version": "1.5.0",
            "_view_count": null,
            "_view_module_version": "1.2.0",
            "_model_module": "@jupyter-widgets/controls"
          }
        },
        "ae27c3b3d8b84e659e920dda8840dac8": {
          "model_module": "@jupyter-widgets/base",
          "model_name": "LayoutModel",
          "state": {
            "_view_name": "LayoutView",
            "grid_template_rows": null,
            "right": null,
            "justify_content": null,
            "_view_module": "@jupyter-widgets/base",
            "overflow": null,
            "_model_module_version": "1.2.0",
            "_view_count": null,
            "flex_flow": null,
            "width": null,
            "min_width": null,
            "border": null,
            "align_items": null,
            "bottom": null,
            "_model_module": "@jupyter-widgets/base",
            "top": null,
            "grid_column": null,
            "overflow_y": null,
            "overflow_x": null,
            "grid_auto_flow": null,
            "grid_area": null,
            "grid_template_columns": null,
            "flex": null,
            "_model_name": "LayoutModel",
            "justify_items": null,
            "grid_row": null,
            "max_height": null,
            "align_content": null,
            "visibility": null,
            "align_self": null,
            "height": null,
            "min_height": null,
            "padding": null,
            "grid_auto_rows": null,
            "grid_gap": null,
            "max_width": null,
            "order": null,
            "_view_module_version": "1.2.0",
            "grid_template_areas": null,
            "object_position": null,
            "object_fit": null,
            "grid_auto_columns": null,
            "margin": null,
            "display": null,
            "left": null
          }
        },
        "4c6c14517db246a9bfbef5a6db318c7c": {
          "model_module": "@jupyter-widgets/controls",
          "model_name": "HBoxModel",
          "state": {
            "_view_name": "HBoxView",
            "_dom_classes": [],
            "_model_name": "HBoxModel",
            "_view_module": "@jupyter-widgets/controls",
            "_model_module_version": "1.5.0",
            "_view_count": null,
            "_view_module_version": "1.5.0",
            "box_style": "",
            "layout": "IPY_MODEL_661cc5a8156b4a2aab071634efdc38bf",
            "_model_module": "@jupyter-widgets/controls",
            "children": [
              "IPY_MODEL_616e6a0fd99345499705bea61ea4779d",
              "IPY_MODEL_e915075836f449c28c34c36591b171f2"
            ]
          }
        },
        "661cc5a8156b4a2aab071634efdc38bf": {
          "model_module": "@jupyter-widgets/base",
          "model_name": "LayoutModel",
          "state": {
            "_view_name": "LayoutView",
            "grid_template_rows": null,
            "right": null,
            "justify_content": null,
            "_view_module": "@jupyter-widgets/base",
            "overflow": null,
            "_model_module_version": "1.2.0",
            "_view_count": null,
            "flex_flow": null,
            "width": null,
            "min_width": null,
            "border": null,
            "align_items": null,
            "bottom": null,
            "_model_module": "@jupyter-widgets/base",
            "top": null,
            "grid_column": null,
            "overflow_y": null,
            "overflow_x": null,
            "grid_auto_flow": null,
            "grid_area": null,
            "grid_template_columns": null,
            "flex": null,
            "_model_name": "LayoutModel",
            "justify_items": null,
            "grid_row": null,
            "max_height": null,
            "align_content": null,
            "visibility": null,
            "align_self": null,
            "height": null,
            "min_height": null,
            "padding": null,
            "grid_auto_rows": null,
            "grid_gap": null,
            "max_width": null,
            "order": null,
            "_view_module_version": "1.2.0",
            "grid_template_areas": null,
            "object_position": null,
            "object_fit": null,
            "grid_auto_columns": null,
            "margin": null,
            "display": null,
            "left": null
          }
        },
        "616e6a0fd99345499705bea61ea4779d": {
          "model_module": "@jupyter-widgets/controls",
          "model_name": "FloatProgressModel",
          "state": {
            "_view_name": "ProgressView",
            "style": "IPY_MODEL_27400e88c77b496383ccfa033985bde5",
            "_dom_classes": [],
            "description": "Test batch: 100%",
            "_model_name": "FloatProgressModel",
            "bar_style": "success",
            "max": 157,
            "_view_module": "@jupyter-widgets/controls",
            "_model_module_version": "1.5.0",
            "value": 157,
            "_view_count": null,
            "_view_module_version": "1.5.0",
            "orientation": "horizontal",
            "min": 0,
            "description_tooltip": null,
            "_model_module": "@jupyter-widgets/controls",
            "layout": "IPY_MODEL_0076d334c4e14c9e8753b8f2feec9eb4"
          }
        },
        "e915075836f449c28c34c36591b171f2": {
          "model_module": "@jupyter-widgets/controls",
          "model_name": "HTMLModel",
          "state": {
            "_view_name": "HTMLView",
            "style": "IPY_MODEL_22d10a1141ae430bbf7e00825e18829a",
            "_dom_classes": [],
            "description": "",
            "_model_name": "HTMLModel",
            "placeholder": "​",
            "_view_module": "@jupyter-widgets/controls",
            "_model_module_version": "1.5.0",
            "value": " 157/157 [00:01&lt;00:00, 94.15it/s]",
            "_view_count": null,
            "_view_module_version": "1.5.0",
            "description_tooltip": null,
            "_model_module": "@jupyter-widgets/controls",
            "layout": "IPY_MODEL_c817189b027f4ca5819034035a0d7010"
          }
        },
        "27400e88c77b496383ccfa033985bde5": {
          "model_module": "@jupyter-widgets/controls",
          "model_name": "ProgressStyleModel",
          "state": {
            "_view_name": "StyleView",
            "_model_name": "ProgressStyleModel",
            "description_width": "initial",
            "_view_module": "@jupyter-widgets/base",
            "_model_module_version": "1.5.0",
            "_view_count": null,
            "_view_module_version": "1.2.0",
            "bar_color": null,
            "_model_module": "@jupyter-widgets/controls"
          }
        },
        "0076d334c4e14c9e8753b8f2feec9eb4": {
          "model_module": "@jupyter-widgets/base",
          "model_name": "LayoutModel",
          "state": {
            "_view_name": "LayoutView",
            "grid_template_rows": null,
            "right": null,
            "justify_content": null,
            "_view_module": "@jupyter-widgets/base",
            "overflow": null,
            "_model_module_version": "1.2.0",
            "_view_count": null,
            "flex_flow": null,
            "width": null,
            "min_width": null,
            "border": null,
            "align_items": null,
            "bottom": null,
            "_model_module": "@jupyter-widgets/base",
            "top": null,
            "grid_column": null,
            "overflow_y": null,
            "overflow_x": null,
            "grid_auto_flow": null,
            "grid_area": null,
            "grid_template_columns": null,
            "flex": null,
            "_model_name": "LayoutModel",
            "justify_items": null,
            "grid_row": null,
            "max_height": null,
            "align_content": null,
            "visibility": null,
            "align_self": null,
            "height": null,
            "min_height": null,
            "padding": null,
            "grid_auto_rows": null,
            "grid_gap": null,
            "max_width": null,
            "order": null,
            "_view_module_version": "1.2.0",
            "grid_template_areas": null,
            "object_position": null,
            "object_fit": null,
            "grid_auto_columns": null,
            "margin": null,
            "display": null,
            "left": null
          }
        },
        "22d10a1141ae430bbf7e00825e18829a": {
          "model_module": "@jupyter-widgets/controls",
          "model_name": "DescriptionStyleModel",
          "state": {
            "_view_name": "StyleView",
            "_model_name": "DescriptionStyleModel",
            "description_width": "",
            "_view_module": "@jupyter-widgets/base",
            "_model_module_version": "1.5.0",
            "_view_count": null,
            "_view_module_version": "1.2.0",
            "_model_module": "@jupyter-widgets/controls"
          }
        },
        "c817189b027f4ca5819034035a0d7010": {
          "model_module": "@jupyter-widgets/base",
          "model_name": "LayoutModel",
          "state": {
            "_view_name": "LayoutView",
            "grid_template_rows": null,
            "right": null,
            "justify_content": null,
            "_view_module": "@jupyter-widgets/base",
            "overflow": null,
            "_model_module_version": "1.2.0",
            "_view_count": null,
            "flex_flow": null,
            "width": null,
            "min_width": null,
            "border": null,
            "align_items": null,
            "bottom": null,
            "_model_module": "@jupyter-widgets/base",
            "top": null,
            "grid_column": null,
            "overflow_y": null,
            "overflow_x": null,
            "grid_auto_flow": null,
            "grid_area": null,
            "grid_template_columns": null,
            "flex": null,
            "_model_name": "LayoutModel",
            "justify_items": null,
            "grid_row": null,
            "max_height": null,
            "align_content": null,
            "visibility": null,
            "align_self": null,
            "height": null,
            "min_height": null,
            "padding": null,
            "grid_auto_rows": null,
            "grid_gap": null,
            "max_width": null,
            "order": null,
            "_view_module_version": "1.2.0",
            "grid_template_areas": null,
            "object_position": null,
            "object_fit": null,
            "grid_auto_columns": null,
            "margin": null,
            "display": null,
            "left": null
          }
        }
      }
    }
  },
  "cells": [
    {
      "cell_type": "code",
      "metadata": {
        "id": "yI538n3n2zQm"
      },
      "source": [
        "import numpy as np\n",
        "import matplotlib.pyplot as plt\n",
        "import seaborn as sns\n",
        "sns.set()"
      ],
      "execution_count": null,
      "outputs": []
    },
    {
      "cell_type": "code",
      "metadata": {
        "id": "9yvbHtm136UH"
      },
      "source": [
        "from torchvision.datasets import CIFAR10"
      ],
      "execution_count": null,
      "outputs": []
    },
    {
      "cell_type": "code",
      "metadata": {
        "id": "awSG4RdwGOuY"
      },
      "source": [
        "from torchvision.transforms import Lambda, Compose\n",
        "\n",
        "transform = Compose([Lambda(lambda pil_image: np.asarray(pil_image))])"
      ],
      "execution_count": null,
      "outputs": []
    },
    {
      "cell_type": "code",
      "metadata": {
        "colab": {
          "base_uri": "https://localhost:8080/"
        },
        "id": "U5HkaBwB4X19",
        "outputId": "092c1c92-abcd-4df4-d1e0-4b70706f24d7"
      },
      "source": [
        "trainset = CIFAR10(root='.', download=True, transform=transform)\n",
        "testset = CIFAR10(root='.', train=False, download=True, transform=transform)"
      ],
      "execution_count": null,
      "outputs": [
        {
          "output_type": "stream",
          "text": [
            "Files already downloaded and verified\n",
            "Files already downloaded and verified\n"
          ],
          "name": "stdout"
        }
      ]
    },
    {
      "cell_type": "code",
      "metadata": {
        "id": "P9G_ng234wm5"
      },
      "source": [
        "class OneLayerNet():\n",
        "    def __init__(self, in_d, out_d):\n",
        "        self.W = 0.001 * np.random.randn(in_d, out_d)\n",
        "    \n",
        "    def forward(self, X_batch):\n",
        "        # X_batch shape (batch_size, in_d)\n",
        "        return X_batch @ self.W\n",
        "\n",
        "    def softmax(self, scores):\n",
        "        # scores shape: (batch_size, out_d)\n",
        "        shift = scores - np.max(scores, axis=1).reshape(-1, 1)\n",
        "        exp_scores = np.exp(shift)\n",
        "        sum_scores = np.sum(exp_score sum_scoress, axis=1).reshape(-1, 1)\n",
        "        return exp_scores / sum_scores\n",
        "    \n",
        "    def backward(self, X_batch, y_true):\n",
        "        dW = np.zeros_like(self.W)\n",
        "        batch_size = X_batch.shape[0]\n",
        "        out = self.forward(X_batch)\n",
        "        y_pred = self.softmax(out)\n",
        "\n",
        "        loss = -np.sum(np.log(y_pred[range(batch_size), list(y_true)]))\n",
        "        y_pred[(np.arange(batch_size), y_true)] -= 1\n",
        "        dW = X_batch.T @ y_pred\n",
        "        loss /= batch_size\n",
        "        return loss, dW\n",
        "    \n",
        "    def fit_batch(self, X_batch, y_true, lr):\n",
        "        loss, grad = self.backward(X_batch, y_true)\n",
        "        self.W -= lr * grad\n",
        "        return loss"
      ],
      "execution_count": null,
      "outputs": []
    },
    {
      "cell_type": "code",
      "metadata": {
        "id": "5FTN4ykIFWhU"
      },
      "source": [
        "from torch.utils.data import DataLoader\n",
        "\n",
        "train_loader = DataLoader(trainset, batch_size=32, shuffle=True)"
      ],
      "execution_count": null,
      "outputs": []
    },
    {
      "cell_type": "code",
      "metadata": {
        "colab": {
          "base_uri": "https://localhost:8080/"
        },
        "id": "K571zeo5Ft0M",
        "outputId": "0a0d12d6-02f5-48a3-b8ad-5bada425cc28"
      },
      "source": [
        "len(train_loader)"
      ],
      "execution_count": null,
      "outputs": [
        {
          "output_type": "execute_result",
          "data": {
            "text/plain": [
              "1563"
            ]
          },
          "metadata": {
            "tags": []
          },
          "execution_count": 37
        }
      ]
    },
    {
      "cell_type": "code",
      "metadata": {
        "colab": {
          "base_uri": "https://localhost:8080/"
        },
        "id": "ycqflMORFz0l",
        "outputId": "f67a7120-4b92-48cc-822b-341a40773f05"
      },
      "source": [
        "batch = next(iter(train_loader))"
      ],
      "execution_count": null,
      "outputs": [
        {
          "output_type": "stream",
          "text": [
            "/usr/local/lib/python3.7/dist-packages/torch/utils/data/_utils/collate.py:63: UserWarning: The given NumPy array is not writeable, and PyTorch does not support non-writeable tensors. This means you can write to the underlying (supposedly non-writeable) NumPy array using the tensor. You may want to copy the array to protect its data or make it writeable before converting it to a tensor. This type of warning will be suppressed for the rest of this program. (Triggered internally at  /pytorch/torch/csrc/utils/tensor_numpy.cpp:143.)\n",
            "  return default_collate([torch.as_tensor(b) for b in batch])\n"
          ],
          "name": "stderr"
        }
      ]
    },
    {
      "cell_type": "code",
      "metadata": {
        "id": "vROy3_ScEz2R"
      },
      "source": [
        "from tqdm.auto import tqdm\n",
        "\n",
        "def train(model, trainset, testset, batch_size, epochs, lr):\n",
        "    train_loader = DataLoader(trainset, batch_size=batch_size, shuffle=True)\n",
        "    test_loader = DataLoader(testset, batch_size=batch_size, shuffle=False)\n",
        "    epoch_losses = []\n",
        "    for ep in tqdm(range(epochs), desc='Epoch'):\n",
        "        epoch_loss = 0.0\n",
        "        for batch in train_loader:\n",
        "            images, labels = batch\n",
        "\n",
        "            images = images.flatten(start_dim=1)\n",
        "            images = images.numpy()\n",
        "            labels = labels.numpy()\n",
        "            loss = model.fit_batch(images, labels, lr)\n",
        "            epoch_loss += loss\n",
        "        epoch_loss /= len(train_loader)\n",
        "        epoch_losses.append(epoch_loss)\n",
        "    return epoch_losses"
      ],
      "execution_count": null,
      "outputs": []
    },
    {
      "cell_type": "code",
      "metadata": {
        "colab": {
          "base_uri": "https://localhost:8080/",
          "height": 68,
          "referenced_widgets": [
            "7f801485a80c4fd7ad9e7d1b56919dcf",
            "be351a8da9f04c4ab75f6a29097763fe",
            "f1b773382d044704b0c1d6bc032a15e8",
            "d2cfa688b92c4a7fa6224f4ee0b81ea4",
            "4a99a2e688fa4a00aa6fbbcfe8f47362",
            "57a1988814da4edb9b72dd103623e418",
            "c13c56a93df049ee89c96d06ad849256",
            "ae27c3b3d8b84e659e920dda8840dac8"
          ]
        },
        "id": "1qM75VJS-2Id",
        "outputId": "dd019461-7c93-4a8c-9b58-e88298311f34"
      },
      "source": [
        "model = OneLayerNet(3072, 10)\n",
        "history = train(model, trainset, testset, 64, 20, 1e-8)"
      ],
      "execution_count": null,
      "outputs": [
        {
          "output_type": "display_data",
          "data": {
            "application/vnd.jupyter.widget-view+json": {
              "model_id": "7f801485a80c4fd7ad9e7d1b56919dcf",
              "version_minor": 0,
              "version_major": 2
            },
            "text/plain": [
              "HBox(children=(FloatProgress(value=0.0, description='Epoch', max=20.0, style=ProgressStyle(description_width='…"
            ]
          },
          "metadata": {
            "tags": []
          }
        },
        {
          "output_type": "stream",
          "text": [
            "\n"
          ],
          "name": "stdout"
        }
      ]
    },
    {
      "cell_type": "code",
      "metadata": {
        "colab": {
          "base_uri": "https://localhost:8080/",
          "height": 540
        },
        "id": "iis_nMtj_d-t",
        "outputId": "715a63bd-a5a3-47ac-c604-0cd2c1e5fb39"
      },
      "source": [
        "fig, ax = plt.subplots(figsize=(16, 9))\n",
        "ax.plot(range(20), history)\n",
        "plt.show()"
      ],
      "execution_count": null,
      "outputs": [
        {
          "output_type": "display_data",
          "data": {
            "image/png": "[encoded data removed]",
            "text/plain": [
              "<Figure size 1152x648 with 1 Axes>"
            ]
          },
          "metadata": {
            "tags": [],
            "needs_background": "light"
          }
        }
      ]
    },
    {
      "cell_type": "code",
      "metadata": {
        "id": "ygGR-Xb_Kmo-"
      },
      "source": [
        "from sklearn.metrics import accuracy_score, classification_report\n",
        "\n",
        "def eval(model, testset):\n",
        "    test_loader = DataLoader(testset, batch_size=64, shuffle=False)\n",
        "    all_preds = []\n",
        "    all_true = []\n",
        "    for batch in tqdm(test_loader, desc='Test batch'):\n",
        "        images, labels = batch\n",
        "        images = images.flatten(start_dim=1)\n",
        "        images = images.numpy()\n",
        "        labels = labels.numpy()\n",
        "\n",
        "        scores = model.forward(images)\n",
        "        probs = model.softmax(scores)\n",
        "        y_pred = np.argmax(probs, axis=1)\n",
        "        all_preds.append(y_pred)\n",
        "        all_true.append(labels)\n",
        "    all_preds = np.concatenate(all_preds)\n",
        "    all_true = np.concatenate(all_true)\n",
        "    print(f'Accuracy score: {accuracy_score(all_true, all_preds):.2%}')\n",
        "    print(classification_report(all_true, all_preds, target_names=trainset.classes))"
      ],
      "execution_count": null,
      "outputs": []
    },
    {
      "cell_type": "code",
      "metadata": {
        "colab": {
          "base_uri": "https://localhost:8080/",
          "height": 404,
          "referenced_widgets": [
            "4c6c14517db246a9bfbef5a6db318c7c",
            "661cc5a8156b4a2aab071634efdc38bf",
            "616e6a0fd99345499705bea61ea4779d",
            "e915075836f449c28c34c36591b171f2",
            "27400e88c77b496383ccfa033985bde5",
            "0076d334c4e14c9e8753b8f2feec9eb4",
            "22d10a1141ae430bbf7e00825e18829a",
            "c817189b027f4ca5819034035a0d7010"
          ]
        },
        "id": "dYrpzCiENuEV",
        "outputId": "52504835-c952-40ff-9889-ac837f1b95de"
      },
      "source": [
        "eval(model, testset)"
      ],
      "execution_count": null,
      "outputs": [
        {
          "output_type": "display_data",
          "data": {
            "application/vnd.jupyter.widget-view+json": {
              "model_id": "4c6c14517db246a9bfbef5a6db318c7c",
              "version_minor": 0,
              "version_major": 2
            },
            "text/plain": [
              "HBox(children=(FloatProgress(value=0.0, description='Test batch', max=157.0, style=ProgressStyle(description_w…"
            ]
          },
          "metadata": {
            "tags": []
          }
        },
        {
          "output_type": "stream",
          "text": [
            "\n",
            "Accuracy score: 35.63%\n",
            "              precision    recall  f1-score   support\n",
            "\n",
            "    airplane       0.45      0.32      0.38      1000\n",
            "  automobile       0.41      0.51      0.46      1000\n",
            "        bird       0.25      0.28      0.27      1000\n",
            "         cat       0.35      0.09      0.14      1000\n",
            "        deer       0.23      0.53      0.32      1000\n",
            "         dog       1.00      0.00      0.00      1000\n",
            "        frog       0.36      0.51      0.42      1000\n",
            "       horse       0.43      0.42      0.43      1000\n",
            "        ship       0.41      0.61      0.49      1000\n",
            "       truck       0.53      0.29      0.37      1000\n",
            "\n",
            "    accuracy                           0.36     10000\n",
            "   macro avg       0.44      0.36      0.33     10000\n",
            "weighted avg       0.44      0.36      0.33     10000\n",
            "\n"
          ],
          "name": "stdout"
        }
      ]
    },
    {
      "cell_type": "code",
      "metadata": {
        "id": "KfQXRU4LOKb8"
      },
      "source": [],
      "execution_count": null,
      "outputs": []
    }
  ]
}