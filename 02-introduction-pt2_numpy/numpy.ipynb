{
  "cells": [
    {
      "cell_type": "markdown",
      "metadata": {
        "id": "HmtCpgQv7ec2"
      },
      "source": [
        "# Знакомство с NumPy"
      ]
    },
    {
      "cell_type": "markdown",
      "metadata": {
        "id": "rs-TYBL-7srJ"
      },
      "source": [
        "Язык программирования Python стал популярен в научной среде и в частности, в области машинного обучения, из-за огромного количества качественных библиотек для работы с разнообразными данными. Две важные библиотеки, с которыми необходимо познакомиться до того, как переходить непосредственно к алгоритмам машинного обучения - это NumPy (https://numpy.org/) и Pandas (https://pandas.pydata.org/), которые составляют основу стека для работы с данными в Python.\n",
        "\n",
        "В этом семинаре я буду пользоваться иллюстрациями из прекрасной вводной статьи по NumPy (рекомендую к просмотру для закрепления):\n",
        "\n",
        "*   http://jalammar.github.io/visual-numpy/"
      ]
    },
    {
      "cell_type": "markdown",
      "metadata": {
        "id": "_3-kDWSRxvkd"
      },
      "source": [
        "![NumPy logo](https://upload.wikimedia.org/wikipedia/commons/1/1a/NumPy_logo.svg)"
      ]
    },
    {
      "cell_type": "markdown",
      "metadata": {
        "id": "u0KxpcjxCGC3"
      },
      "source": [
        "Математическая основа большинства алгоритмов машинного обучения - это раздел математики, называющийся \"линейная алгебра\" - операции над матрицами, векторами и т.д. В стандартной библиотеке Python нет эффективной реализации математического объекта вектора и матрицы. Если реализовывать их с помощью доступных в Python списков, вложенных списков или объектов array.array, то выходит слишком медленно. NumPy (Numeric Python) - библиотека, предоставляющая эффективную реализацию объектов векторов, матриц и операций с ними, а засчет того, что ее ядро написано на C и Fortran и очень сильно оптимизировано, достигается впечатляющая вычислительная производительность."
      ]
    },
    {
      "cell_type": "markdown",
      "metadata": {
        "id": "5tKnxi0W38Jr"
      },
      "source": [
        "Для начала, импортируем NumPy. Сокращение `np` для пакета общеупотребимое и используется везде, включая официальную документацию  "
      ]
    },
    {
      "cell_type": "code",
      "execution_count": null,
      "metadata": {
        "id": "v8yiQ1y07hN8",
        "vscode": {
          "languageId": "python"
        }
      },
      "outputs": [],
      "source": [
        "import numpy as np"
      ]
    },
    {
      "cell_type": "markdown",
      "metadata": {
        "id": "vEGDTFPW4ass"
      },
      "source": [
        "Основной объект, предоставляемый библиотекой `numpy` - это объект массива `np.array`\n"
      ]
    },
    {
      "cell_type": "markdown",
      "metadata": {
        "id": "uZuREfT25FSt"
      },
      "source": [
        "![numpy array visualization](http://jalammar.github.io/images/numpy/numpy-array.png)"
      ]
    },
    {
      "cell_type": "markdown",
      "metadata": {
        "id": "p36LdrTO5XmF"
      },
      "source": [
        "### Создание одномерных объектов `np.array` (векторов)"
      ]
    },
    {
      "cell_type": "markdown",
      "metadata": {
        "id": "ayqOP8mj5gBC"
      },
      "source": [
        "Перед началом работы с вектором, его, конечно же, нужно создать. Сделать это можно, например, следующими способами (но не только ими):\n",
        "\n",
        "1.   Передать список (или другой итерируемый объект)\n",
        "2.   Создать массив нужного размера, заполненный константой (единицами, нулями и т.д.)\n",
        "3.   Создать массив нужного размера, заполненный случайными значениями\n",
        "4.   Больше способов [тут](https://docs.scipy.org/doc/numpy/user/basics.creation.html#arrays-creation) и [тут](https://docs.scipy.org/doc/numpy/reference/routines.array-creation.html#routines-array-creation)\n",
        "\n",
        "\n"
      ]
    },
    {
      "cell_type": "markdown",
      "metadata": {
        "id": "M8IM8rn57xQ-"
      },
      "source": [
        "![create numpy array 1](http://jalammar.github.io/images/numpy/create-numpy-array-1.png)"
      ]
    },
    {
      "cell_type": "markdown",
      "metadata": {
        "id": "U4PjcGb68MVC"
      },
      "source": [
        "![create numpy array ones, zeros, random](http://jalammar.github.io/images/numpy/create-numpy-array-ones-zeros-random.png)"
      ]
    },
    {
      "cell_type": "markdown",
      "metadata": {
        "id": "jWgWDpQJMHF_"
      },
      "source": [
        "### Арифметические действия"
      ]
    },
    {
      "cell_type": "markdown",
      "metadata": {
        "id": "WYFlbeJ4MmtW"
      },
      "source": [
        "Над массивами можно проводить арифметические действия, при этом для обычных арифметических операторов (сложение, умножение, вычитание, деление) операции будут производиться **поэлементно**:"
      ]
    },
    {
      "cell_type": "markdown",
      "metadata": {
        "id": "SOhlT7vWNqGC"
      },
      "source": [
        "![numpy arrays example 1](http://jalammar.github.io/images/numpy/numpy-arrays-example-1.png)"
      ]
    },
    {
      "cell_type": "markdown",
      "metadata": {
        "id": "WLi5TCj2N2tY"
      },
      "source": [
        "![numpy arrays adding 1](http://jalammar.github.io/images/numpy/numpy-arrays-adding-1.png)"
      ]
    },
    {
      "cell_type": "markdown",
      "metadata": {
        "id": "RU4mzgiqOX2s"
      },
      "source": [
        "![numpy array substract multiply divide](http://jalammar.github.io/images/numpy/numpy-array-subtract-multiply-divide.png)"
      ]
    },
    {
      "cell_type": "markdown",
      "metadata": {
        "id": "qi60znEt1POX"
      },
      "source": [
        "В случае арифметической операции с массивом и числом, `numpy` совершит **трансляцию (broadcasting)**"
      ]
    },
    {
      "cell_type": "markdown",
      "metadata": {
        "id": "6vgHo7V-PulD"
      },
      "source": [
        "![numpy array broadcast](http://jalammar.github.io/images/numpy/numpy-array-broadcast.png)"
      ]
    },
    {
      "cell_type": "markdown",
      "metadata": {
        "id": "8dj8HP2L1vK4"
      },
      "source": [
        "В случае несовпадающих размерностей, мы ожидаемо получим исключение"
      ]
    },
    {
      "cell_type": "code",
      "execution_count": null,
      "metadata": {
        "id": "O5x5FOx51nRV",
        "vscode": {
          "languageId": "python"
        }
      },
      "outputs": [],
      "source": [
        "arr1, arr2 = np.ones(5), np.ones(3)\n",
        "arr1 + arr2"
      ]
    },
    {
      "cell_type": "markdown",
      "metadata": {
        "id": "yxdoGpZUOXzM"
      },
      "source": [
        "### Индексирование"
      ]
    },
    {
      "cell_type": "markdown",
      "metadata": {
        "id": "sKACpr82OXwm"
      },
      "source": [
        "В `numpy` реализована мощная система индексирования, позволяющая обращаться к отдельным элементам массива и т.п. Также, работают срезы по аналогии со списками"
      ]
    },
    {
      "cell_type": "markdown",
      "metadata": {
        "id": "ZeIBrWhaOXt-"
      },
      "source": [
        "![numpy array slice](http://jalammar.github.io/images/numpy/numpy-array-slice.png)"
      ]
    },
    {
      "cell_type": "markdown",
      "metadata": {
        "id": "_wHMzu4uOXpH"
      },
      "source": [
        "### Агрегации"
      ]
    },
    {
      "cell_type": "markdown",
      "metadata": {
        "id": "Q64iW2GuOXlm"
      },
      "source": [
        "Агрегации - это функции, принимающие на вход массив и возвращающие одно число, например поиск максимума, минимума, суммы, среднего, и т.п."
      ]
    },
    {
      "cell_type": "markdown",
      "metadata": {
        "id": "LXNAmQMoiKb7"
      },
      "source": [
        "![link numpy array aggregation](http://jalammar.github.io/images/numpy/numpy-array-aggregation.png)"
      ]
    },
    {
      "cell_type": "markdown",
      "metadata": {
        "id": "OElE9zXo5Kfw"
      },
      "source": [
        "*Задание: создайте с помощью numpy вектор из 179 случайных значений и посчитайте его среднее. Проверьте, что значение, полученное с помощью numpy совпадает с plain python*"
      ]
    },
    {
      "cell_type": "code",
      "execution_count": null,
      "metadata": {
        "id": "GLqXhyRA5Kfw",
        "vscode": {
          "languageId": "python"
        }
      },
      "outputs": [],
      "source": [
        "# PUT YOUR CODE HERE"
      ]
    },
    {
      "cell_type": "markdown",
      "metadata": {
        "id": "GXIJeTiaOXh9"
      },
      "source": [
        "### Многомерные массивы (матрицы)"
      ]
    },
    {
      "cell_type": "markdown",
      "metadata": {
        "id": "-zofUWjHiuHA"
      },
      "source": [
        "Удобство `numpy` распространяется и на случаи массивов большей размерности"
      ]
    },
    {
      "cell_type": "markdown",
      "metadata": {
        "id": "MhwwDpp_OXVL"
      },
      "source": [
        "![numpy array create 2d](http://jalammar.github.io/images/numpy/numpy-array-create-2d.png)"
      ]
    },
    {
      "cell_type": "markdown",
      "metadata": {
        "id": "XtVaBqLKyBkb"
      },
      "source": [
        "Если арифметические операции производятся над матрицами одного размера, они так же будут выполнены **поэлементно**"
      ]
    },
    {
      "cell_type": "markdown",
      "metadata": {
        "id": "gb0p2d-6zZIF"
      },
      "source": [
        "![numpy matrix arithmetic](http://jalammar.github.io/images/numpy/numpy-matrix-arithmetic.png)"
      ]
    },
    {
      "cell_type": "markdown",
      "metadata": {
        "id": "Oqrjqb8q0L8F"
      },
      "source": [
        "Арифметические действия между матрицами разного размера можно проводить, если несовпадающая размерность матрицы равна 1, в таком случае `numpy` опять сделает **broadcasting** и выполнит операцию"
      ]
    },
    {
      "cell_type": "markdown",
      "metadata": {
        "id": "FAL8xACf0Gqm"
      },
      "source": [
        "![numpy matrix broadcast](http://jalammar.github.io/images/numpy/numpy-matrix-broadcast.png)"
      ]
    },
    {
      "cell_type": "markdown",
      "metadata": {
        "id": "o6vZkwlS2oiA"
      },
      "source": [
        "В случае несовпадения размерностей матриц, получим ожидаемое исключение"
      ]
    },
    {
      "cell_type": "code",
      "execution_count": null,
      "metadata": {
        "id": "GthN6E1s2uDU",
        "vscode": {
          "languageId": "python"
        }
      },
      "outputs": [],
      "source": [
        "m1, m2 = np.ones((3, 3)), np.ones((2, 2))\n",
        "m1 + m2"
      ]
    },
    {
      "cell_type": "markdown",
      "metadata": {
        "id": "YZtPacOl21t1"
      },
      "source": [
        "Узнать размерность любого объекта `np.array` можно с помощью атрибута `.shape`"
      ]
    },
    {
      "cell_type": "code",
      "execution_count": null,
      "metadata": {
        "id": "WR8jg5RN28WO",
        "vscode": {
          "languageId": "python"
        }
      },
      "outputs": [],
      "source": [
        "m1.shape, m2.shape"
      ]
    },
    {
      "cell_type": "markdown",
      "metadata": {
        "id": "PM8k8vn63ENe"
      },
      "source": [
        "### Матричное умножение"
      ]
    },
    {
      "cell_type": "markdown",
      "metadata": {
        "id": "sIwln5Q-3LG4"
      },
      "source": [
        "Матричное умножение можно вызвать с помощью оператора `@` или метода `.dot`"
      ]
    },
    {
      "cell_type": "code",
      "execution_count": null,
      "metadata": {
        "id": "XZ1s6HOf7Kq3",
        "vscode": {
          "languageId": "python"
        }
      },
      "outputs": [],
      "source": [
        "data = np.array([[1, 2, 3]])\n",
        "powers_of_ten = np.array([[1, 10], [100, 1000], [10000, 100000]])\n",
        "data @ powers_of_ten"
      ]
    },
    {
      "cell_type": "code",
      "execution_count": null,
      "metadata": {
        "id": "QLNS61ba7aLP",
        "vscode": {
          "languageId": "python"
        }
      },
      "outputs": [],
      "source": [
        "data.dot(powers_of_ten)"
      ]
    },
    {
      "cell_type": "markdown",
      "metadata": {
        "id": "xjNR-qtw7u8k"
      },
      "source": [
        "![numpy matrix dot product 1](http://jalammar.github.io/images/numpy/numpy-matrix-dot-product-1.png)"
      ]
    },
    {
      "cell_type": "markdown",
      "metadata": {
        "id": "CBiVBO-e766t"
      },
      "source": [
        "![numpy matrix dot product 2](http://jalammar.github.io/images/numpy/numpy-matrix-dot-product-2.png)"
      ]
    },
    {
      "cell_type": "markdown",
      "metadata": {
        "id": "p5i073lK9K6-"
      },
      "source": [
        "В случае массивов, матричное произведение превращается в скалярное произведение векторов"
      ]
    },
    {
      "cell_type": "code",
      "execution_count": null,
      "metadata": {
        "id": "Azfxdebm8DoH",
        "vscode": {
          "languageId": "python"
        }
      },
      "outputs": [],
      "source": [
        "v1, v2 = np.ones(5), np.arange(5)\n",
        "v1, v2"
      ]
    },
    {
      "cell_type": "code",
      "execution_count": null,
      "metadata": {
        "id": "KvCM_Z4-9DR4",
        "vscode": {
          "languageId": "python"
        }
      },
      "outputs": [],
      "source": [
        "v1 @ v2, v1.dot(v2)"
      ]
    },
    {
      "cell_type": "markdown",
      "metadata": {
        "id": "EmTHmhMd8DMY"
      },
      "source": [
        "### Индексирование в матрицах"
      ]
    },
    {
      "cell_type": "markdown",
      "metadata": {
        "id": "0jNjgeZM_pae"
      },
      "source": [
        "![numpy matrix indexing](http://jalammar.github.io/images/numpy/numpy-matrix-indexing.png)"
      ]
    },
    {
      "cell_type": "markdown",
      "metadata": {
        "id": "SxiAsuIIAAST"
      },
      "source": [
        "### Агрегации в матрицах"
      ]
    },
    {
      "cell_type": "markdown",
      "metadata": {
        "id": "RCpDgXJnAICT"
      },
      "source": [
        "![numpy matrix aggregation 1](http://jalammar.github.io/images/numpy/numpy-matrix-aggregation-1.png)"
      ]
    },
    {
      "cell_type": "markdown",
      "metadata": {
        "id": "CHZuWRhlAOmf"
      },
      "source": [
        "![numpy matrix aggregation 4](http://jalammar.github.io/images/numpy/numpy-matrix-aggregation-4.png)"
      ]
    },
    {
      "cell_type": "markdown",
      "metadata": {
        "id": "-nzldi1j5Kf4"
      },
      "source": [
        "*Задание: создайте матрицу со случайными значениями (размерность выберите сами).*\n",
        "\n",
        "1. *Найдите максимальное и минимальное значения в матрице*\n",
        "2. *Теперь вычтите из всех значений матрицы минимальное, а результат разделите на разницу между максимальным и минимальным*\n",
        "3. *Теперь в получившейся матрице заново найдите минимальное и максимальное значения*"
      ]
    },
    {
      "cell_type": "code",
      "execution_count": null,
      "metadata": {
        "id": "D6-o0WXr5Kf4",
        "vscode": {
          "languageId": "python"
        }
      },
      "outputs": [],
      "source": [
        "# PUT YOUR CODE HERE"
      ]
    },
    {
      "cell_type": "markdown",
      "metadata": {
        "id": "HjL9SddCAihV"
      },
      "source": [
        "### Транспонирование и изменение формы"
      ]
    },
    {
      "cell_type": "markdown",
      "metadata": {
        "id": "9daQj3qQBSdm"
      },
      "source": [
        "Транспонирование - операция замены строк на столбцы"
      ]
    },
    {
      "cell_type": "markdown",
      "metadata": {
        "id": "zEHRShvPB2_k"
      },
      "source": [
        "![numpy transpose](http://jalammar.github.io/images/numpy/numpy-transpose.png)"
      ]
    },
    {
      "cell_type": "markdown",
      "metadata": {
        "id": "hrJsyxZMCKdP"
      },
      "source": [
        "![numpy reshape](http://jalammar.github.io/images/numpy/numpy-reshape.png)"
      ]
    },
    {
      "cell_type": "code",
      "execution_count": null,
      "metadata": {
        "id": "MAEPLNhI7aJo",
        "vscode": {
          "languageId": "python"
        }
      },
      "outputs": [],
      "source": [
        "data.reshape(3, -1)"
      ]
    },
    {
      "cell_type": "markdown",
      "metadata": {
        "id": "jNL9Xp1-DXoz"
      },
      "source": [
        "### Большие размерности\n",
        "\n"
      ]
    },
    {
      "cell_type": "markdown",
      "metadata": {
        "id": "SJNzbwShDvBw"
      },
      "source": [
        "![numpy 3d array](http://jalammar.github.io/images/numpy/numpy-3d-array.png)"
      ]
    },
    {
      "cell_type": "markdown",
      "metadata": {
        "id": "y74n7OJWD4g6"
      },
      "source": [
        "![numpy 3d array creation](http://jalammar.github.io/images/numpy/numpy-3d-array-creation.png)"
      ]
    },
    {
      "cell_type": "markdown",
      "metadata": {
        "id": "FbEsU2mmEO0A"
      },
      "source": [
        "### Практический пример - формула среднеквадратичной ошибки"
      ]
    },
    {
      "cell_type": "code",
      "execution_count": null,
      "metadata": {
        "id": "EnKCsjzfEUtb",
        "vscode": {
          "languageId": "python"
        }
      },
      "outputs": [],
      "source": [
        "y_pred = [0, 1, 2, 3, 4, 5, 6, 7, 8, 9, 10, 13, 15, 11, 10, 9, 12, 4, 2, 0]\n",
        "y = [1.1, 1.2, 3, 3, 3, 9, 5, 10, 3, 10, 10, 2.3, 4.4, 2, 2, 9, 12, 2, 0, 0]"
      ]
    },
    {
      "cell_type": "code",
      "execution_count": null,
      "metadata": {
        "id": "7F-r2C__E5bY",
        "vscode": {
          "languageId": "python"
        }
      },
      "outputs": [],
      "source": [
        "import matplotlib.pyplot as plt\n",
        "import seaborn as sns\n",
        "sns.set()\n",
        "\n",
        "fig, ax = plt.subplots(figsize=(14, 8))\n",
        "ax.plot(y, label='y', marker='o')\n",
        "ax.plot(y_pred, label='y_pred', marker='o')\n",
        "ax.legend()\n",
        "ax.set_xlabel('x')\n",
        "ax.set_ylabel('y')\n",
        "plt.show()"
      ]
    },
    {
      "cell_type": "markdown",
      "metadata": {
        "id": "mQGud9XbEYME"
      },
      "source": [
        "![mean square error formula](http://jalammar.github.io/images/numpy/mean-square-error-formula.png)"
      ]
    },
    {
      "cell_type": "code",
      "execution_count": null,
      "metadata": {
        "id": "W5cKn38VGSpC",
        "vscode": {
          "languageId": "python"
        }
      },
      "outputs": [],
      "source": [
        "mse = 0.0\n",
        "n = len(y)\n",
        "for i in range(n):\n",
        "    mse += (y_pred[i] - y[i])**2 \n",
        "mse /= n\n",
        "print(f'MSE = {mse}')"
      ]
    },
    {
      "cell_type": "code",
      "execution_count": null,
      "metadata": {
        "id": "kFXkcTy3Fwx5",
        "vscode": {
          "languageId": "python"
        }
      },
      "outputs": [],
      "source": [
        "y = np.array(y)\n",
        "y_pred = np.array(y_pred)\n",
        "\n",
        "mse = ((y_pred - y) ** 2).mean()\n",
        "print(f'MSE = {mse}')"
      ]
    },
    {
      "cell_type": "markdown",
      "metadata": {
        "id": "uIIx_dyD5Kf6"
      },
      "source": [
        "### Бенчмарк NumPy vs. Python"
      ]
    },
    {
      "cell_type": "code",
      "execution_count": null,
      "metadata": {
        "id": "I57GCRmD5Kf6",
        "vscode": {
          "languageId": "python"
        }
      },
      "outputs": [],
      "source": [
        "from typing import List\n",
        "\n",
        "def vanilla_mse(y1: List[float], y2: List[float]) -> float:\n",
        "    n = len(y1)\n",
        "    mse = 0.0\n",
        "    for i in range(n):\n",
        "        mse += (y1[i] - y2[i])**2\n",
        "    mse /= n\n",
        "    return mse"
      ]
    },
    {
      "cell_type": "code",
      "execution_count": null,
      "metadata": {
        "id": "3KoN3ZN-5Kf7",
        "vscode": {
          "languageId": "python"
        }
      },
      "outputs": [],
      "source": [
        "import numpy.typing as npt\n",
        "\n",
        "def numpy_mse(y1: npt.NDArray, y2: npt.NDArray) -> float:\n",
        "    return ((y1 - y2)**2).mean()"
      ]
    },
    {
      "cell_type": "code",
      "execution_count": null,
      "metadata": {
        "id": "gnzG-pvs5Kf8",
        "vscode": {
          "languageId": "python"
        }
      },
      "outputs": [],
      "source": [
        "from time import perf_counter\n",
        "\n",
        "vanilla_times = []\n",
        "numpy_times = []\n",
        "sizes = [2**i for i in range(10, 25)]\n",
        "for size in sizes:\n",
        "    # вычисляем MSE с помощью numpy\n",
        "    y1 = np.random.random(size)\n",
        "    y2 = np.random.random(size)\n",
        "    numpy_start = perf_counter()\n",
        "    mse = numpy_mse(y1, y2)\n",
        "    numpy_end = perf_counter()\n",
        "    numpy_times.append(numpy_end - numpy_start)\n",
        "    # вычисляем MSE с помощью python\n",
        "    y1 = list(y1)\n",
        "    y2 = list(y2)\n",
        "    vanilla_start = perf_counter()\n",
        "    mse = vanilla_mse(y1, y2)\n",
        "    vanilla_end = perf_counter()\n",
        "    vanilla_times.append(vanilla_end - vanilla_start)"
      ]
    },
    {
      "cell_type": "code",
      "execution_count": null,
      "metadata": {
        "id": "99BCRWdN5Kf8",
        "vscode": {
          "languageId": "python"
        }
      },
      "outputs": [],
      "source": [
        "fig, ax = plt.subplots(figsize=(16, 9))\n",
        "ax.plot(sizes, vanilla_times, label='vanilla')\n",
        "ax.plot(sizes, numpy_times, label='numpy')\n",
        "ax.legend()\n",
        "plt.show()"
      ]
    },
    {
      "cell_type": "code",
      "execution_count": null,
      "metadata": {
        "id": "IIR9b-wMLEXf",
        "vscode": {
          "languageId": "python"
        }
      },
      "outputs": [],
      "source": []
    }
  ],
  "metadata": {
    "colab": {
      "collapsed_sections": [
        "p36LdrTO5XmF",
        "jWgWDpQJMHF_",
        "yxdoGpZUOXzM",
        "_wHMzu4uOXpH",
        "GXIJeTiaOXh9",
        "PM8k8vn63ENe",
        "EmTHmhMd8DMY",
        "SxiAsuIIAAST",
        "HjL9SddCAihV",
        "jNL9Xp1-DXoz",
        "FbEsU2mmEO0A",
        "uIIx_dyD5Kf6",
        "IOC4Ko3Myupf",
        "b-jN8znNLjjl",
        "tBvlcKhjMWUP",
        "Jh6Yu8aTMuiq",
        "vl9K2T6JObNy",
        "_KRB9vg5Ky5l"
      ],
      "provenance": []
    },
    "kernelspec": {
      "display_name": "Python 3",
      "language": "python",
      "name": "python3"
    }
  },
  "nbformat": 4,
  "nbformat_minor": 0
}
