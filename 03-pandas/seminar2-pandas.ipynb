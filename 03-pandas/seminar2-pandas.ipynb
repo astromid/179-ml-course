{
  "cells": [
    {
      "cell_type": "markdown",
      "metadata": {
        "id": "HmtCpgQv7ec2"
      },
      "source": [
        "# Знакомство с Pandas"
      ]
    },
    {
      "cell_type": "markdown",
      "metadata": {
        "id": "rs-TYBL-7srJ"
      },
      "source": [
        "Язык программирования Python стал популярен в научной среде и в частности, в области машинного обучения, из-за огромного количества качественных библиотек для работы с разнообразными данными. Две важные библиотеки, с которыми необходимо познакомиться до того, как переходить непосредственно к алгоритмам машинного обучения - это NumPy (https://numpy.org/) и Pandas (https://pandas.pydata.org/), которые составляют основу стека для работы с данными в Python.\n",
        "\n",
        "В этом семинаре я буду пользоваться иллюстрациями из прекрасной вводной статьи по Pandas (рекомендую к просмотру для закрепления):\n",
        "\n",
        "*   http://jalammar.github.io/gentle-visual-intro-to-data-analysis-python-pandas/"
      ]
    },
    {
      "cell_type": "markdown",
      "metadata": {
        "id": "28oWrcCUyzlL"
      },
      "source": [
        "![Pandas logo](https://upload.wikimedia.org/wikipedia/commons/thumb/e/ed/Pandas_logo.svg/1280px-Pandas_logo.svg.png)"
      ]
    },
    {
      "cell_type": "markdown",
      "metadata": {},
      "source": [
        "Документация https://pandas.pydata.org/docs/user_guide/index.html"
      ]
    },
    {
      "cell_type": "markdown",
      "metadata": {
        "id": "AUxOg0Qs9oNL"
      },
      "source": [
        "Библиотека Pandas представляет удобный способ организации табличных данных - объект `pandas.DataFrame`"
      ]
    },
    {
      "cell_type": "code",
      "execution_count": null,
      "metadata": {
        "id": "97WSFWdOzHAy"
      },
      "outputs": [],
      "source": [
        "import pandas as pd"
      ]
    },
    {
      "cell_type": "code",
      "execution_count": null,
      "metadata": {
        "id": "P6-IGkdT8Enn"
      },
      "outputs": [],
      "source": [
        "from pathlib import Path\n",
        "\n",
        "tiny_dataset_path = Path(\"music.csv\")\n",
        "tiny_dataset_path.write_text(\"\"\"\n",
        "    Artist,Genre,Listeners,Plays\\n\n",
        "    Bille Holiday,Jazz,1300000,27000000\\n\n",
        "    Jimi Hendrix,Rock,2700000,70000000\\n\n",
        "    Miles Davis,Jazz,1500000,48000000\\n\n",
        "    SIA,Pop,2000000,74000000\\n\n",
        "\"\"\")"
      ]
    },
    {
      "cell_type": "markdown",
      "metadata": {
        "id": "WyyrsHIr908g"
      },
      "source": [
        "`pd.DataFrame` можно создать как из уже существующих матриц `np.array`, так и загрузив с диска. Поддерживается импорт большого набора форматов (csv, xlsx, json, parquet, feather, ...)"
      ]
    },
    {
      "cell_type": "markdown",
      "metadata": {
        "id": "rBNfABw8-GPs"
      },
      "source": [
        "![excel to pandas](http://jalammar.github.io/images/pandas-intro/0%20excel-to-pandas.png)"
      ]
    },
    {
      "cell_type": "code",
      "execution_count": null,
      "metadata": {
        "id": "CbF1XFiH5Kf-"
      },
      "outputs": [],
      "source": [
        "df = pd.read_csv('music.csv')"
      ]
    },
    {
      "cell_type": "code",
      "execution_count": null,
      "metadata": {
        "id": "OTT9AqMQ8gTP"
      },
      "outputs": [],
      "source": [
        "df"
      ]
    },
    {
      "cell_type": "code",
      "execution_count": null,
      "metadata": {
        "id": "I1AGEClU9wuZ"
      },
      "outputs": [],
      "source": [
        "df.head(2)"
      ]
    },
    {
      "cell_type": "code",
      "execution_count": null,
      "metadata": {
        "id": "lXXyfNxf_dke"
      },
      "outputs": [],
      "source": [
        "df.tail(1)"
      ]
    },
    {
      "cell_type": "code",
      "execution_count": null,
      "metadata": {
        "id": "JVBb5DOE5Kf-"
      },
      "outputs": [],
      "source": [
        "df.info()"
      ]
    },
    {
      "cell_type": "markdown",
      "metadata": {
        "id": "b-jN8znNLjjl"
      },
      "source": [
        "### Выбор данных"
      ]
    },
    {
      "cell_type": "markdown",
      "metadata": {
        "id": "Md-2dkcoLv1l"
      },
      "source": [
        "![select column](http://jalammar.github.io/images/pandas-intro/2%20select-column.png)\n",
        "\n"
      ]
    },
    {
      "cell_type": "markdown",
      "metadata": {
        "id": "Wl0JuuZ9MGbY"
      },
      "source": [
        "![select rows](http://jalammar.github.io/images/pandas-intro/3%20select-rows.png)"
      ]
    },
    {
      "cell_type": "markdown",
      "metadata": {
        "id": "VDxfNewcMRMB"
      },
      "source": [
        "![select column and rows](http://jalammar.github.io/images/pandas-intro/4%20select_column-and-rows.png)"
      ]
    },
    {
      "cell_type": "markdown",
      "metadata": {
        "id": "tBvlcKhjMWUP"
      },
      "source": [
        "### Фильтрация"
      ]
    },
    {
      "cell_type": "markdown",
      "metadata": {
        "id": "fNm7h5JFMeFz"
      },
      "source": [
        "![pandas filter 1](http://jalammar.github.io/images/pandas-intro/pandas-filter-1.png)"
      ]
    },
    {
      "cell_type": "markdown",
      "metadata": {
        "id": "UuVAqQ_aMrVq"
      },
      "source": [
        "![filter](http://jalammar.github.io/images/pandas-intro/5%20filter.png)"
      ]
    },
    {
      "cell_type": "markdown",
      "metadata": {
        "id": "Jh6Yu8aTMuiq"
      },
      "source": [
        "### Группировка"
      ]
    },
    {
      "cell_type": "markdown",
      "metadata": {
        "id": "A82BVtO2M8S3"
      },
      "source": [
        "![group by](http://jalammar.github.io/images/pandas-intro/8%20group-by.png)"
      ]
    },
    {
      "cell_type": "markdown",
      "metadata": {
        "id": "vl9K2T6JObNy"
      },
      "source": [
        "### Создание новых колонок"
      ]
    },
    {
      "cell_type": "markdown",
      "metadata": {
        "id": "uuRKtOCcOfkZ"
      },
      "source": [
        "![create new column](http://jalammar.github.io/images/pandas-intro/9%20create-new-column.png)"
      ]
    },
    {
      "cell_type": "code",
      "execution_count": null,
      "metadata": {
        "id": "S_3i9-L25KgB"
      },
      "outputs": [],
      "source": [
        "df['Genre'].value_counts()"
      ]
    },
    {
      "cell_type": "markdown",
      "metadata": {
        "id": "xcIDasd35KgD"
      },
      "source": [
        "## Анализ датасета Титаник"
      ]
    },
    {
      "cell_type": "code",
      "execution_count": null,
      "metadata": {
        "id": "TqipTo_65KgD"
      },
      "outputs": [],
      "source": [
        "!wget -O titanic.csv 'https://web.stanford.edu/class/archive/cs/cs109/cs109.1166/stuff/titanic.csv'"
      ]
    },
    {
      "cell_type": "markdown",
      "metadata": {
        "id": "OwzfUNVR5KgD"
      },
      "source": [
        "*Задание*\n",
        "- *Сколько всего пассажиров погибло, а сколько выжило? В абсолютных числах и в %*\n",
        "- *Как отличается средняя стоимость (fare) билета среди разных классов?*\n",
        "- *Что вы можете сказать о средней выживаемости среди пассажиров разного класса?*\n",
        "- *Что вы можете сказать о среднем возрасте среди группы выживших и погибших?*\n",
        "- *Посчитайте среднюю выживаемость среди женщин и мужчин*\n",
        "- *Сколько всего среди погибших было женщин? А сколько мужчин? А среди выживших?*\n",
        "- *Рассмотрим отдельно группы детей (возраст < 18) и взрослых (> 18). Отличается ли выживаемость среди них?*\n",
        "- *Сравните выживаемость женщин и мужчин среди детей и взрослых. Отличаются ли они?*"
      ]
    },
    {
      "cell_type": "code",
      "execution_count": null,
      "metadata": {
        "id": "5H7V9Thc5KgD"
      },
      "outputs": [],
      "source": [
        "# PUT YOUR CODE HERE"
      ]
    },
    {
      "cell_type": "code",
      "execution_count": null,
      "metadata": {
        "id": "IIR9b-wMLEXf"
      },
      "outputs": [],
      "source": []
    }
  ],
  "metadata": {
    "colab": {
      "collapsed_sections": [
        "p36LdrTO5XmF",
        "jWgWDpQJMHF_",
        "yxdoGpZUOXzM",
        "_wHMzu4uOXpH",
        "GXIJeTiaOXh9",
        "PM8k8vn63ENe",
        "EmTHmhMd8DMY",
        "SxiAsuIIAAST",
        "HjL9SddCAihV",
        "jNL9Xp1-DXoz",
        "FbEsU2mmEO0A",
        "uIIx_dyD5Kf6",
        "IOC4Ko3Myupf",
        "b-jN8znNLjjl",
        "tBvlcKhjMWUP",
        "Jh6Yu8aTMuiq",
        "vl9K2T6JObNy",
        "_KRB9vg5Ky5l"
      ],
      "provenance": []
    },
    "kernelspec": {
      "display_name": "Python 3",
      "language": "python",
      "name": "python3"
    }
  },
  "nbformat": 4,
  "nbformat_minor": 0
}
