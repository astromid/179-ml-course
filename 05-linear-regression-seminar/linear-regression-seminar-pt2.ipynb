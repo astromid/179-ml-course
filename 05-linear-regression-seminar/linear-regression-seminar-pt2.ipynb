{
  "cells": [
    {
      "cell_type": "code",
      "execution_count": null,
      "metadata": {
        "id": "c5HyuphoCFXU"
      },
      "outputs": [],
      "source": [
        "import numpy as np\n",
        "import pandas as pd\n",
        "import matplotlib.pyplot as plt\n",
        "import seaborn as sns\n",
        "sns.set()"
      ]
    },
    {
      "cell_type": "code",
      "execution_count": null,
      "metadata": {
        "id": "Itue08JiKsK9"
      },
      "outputs": [],
      "source": [
        "from sklearn.model_selection import train_test_split\n",
        "\n",
        "def prepare_data():\n",
        "    x = np.linspace(0, 1, 100)\n",
        "    y = np.cos(1.5 * np.pi * x)\n",
        "\n",
        "    np.random.seed(14300631)\n",
        "    x_samples = np.random.uniform(0, 1, size=60)\n",
        "    y_samples = np.cos(1.5 * np.pi * x_samples) + np.random.normal(scale=0.1, size=x_samples.shape)\n",
        "\n",
        "    df = pd.DataFrame({\"x\": x_samples, \"y\": y_samples})\n",
        "\n",
        "    df_remain, df_online_test = train_test_split(df, test_size=10)\n",
        "    df_remain, df_test = train_test_split(df_remain, test_size=10)\n",
        "    df_train, df_val = train_test_split(df_remain, test_size=10)\n",
        "    return {\n",
        "        \"train\": df_train,\n",
        "        \"val\": df_val,\n",
        "        \"test\": df_test,\n",
        "        \"online_test\": df_online_test,\n",
        "        \"real\": pd.DataFrame({\"x\": x, \"y\": y})\n",
        "    }"
      ]
    },
    {
      "cell_type": "code",
      "execution_count": null,
      "metadata": {
        "id": "MRfN55WvFAxT"
      },
      "outputs": [],
      "source": [
        "data = prepare_data()"
      ]
    },
    {
      "cell_type": "code",
      "execution_count": null,
      "metadata": {
        "colab": {
          "base_uri": "https://localhost:8080/"
        },
        "id": "FV_0XZNjS3c6",
        "outputId": "ed0329d2-f1cb-4328-ed12-0250bdc704ef"
      },
      "outputs": [
        {
          "data": {
            "text/plain": [
              "dict_keys(['train', 'val', 'test', 'online_test', 'real'])"
            ]
          },
          "execution_count": 4,
          "metadata": {},
          "output_type": "execute_result"
        }
      ],
      "source": [
        "data.keys()"
      ]
    },
    {
      "cell_type": "code",
      "execution_count": null,
      "metadata": {
        "id": "-2IsjYmkWQga"
      },
      "outputs": [],
      "source": [
        "train_df = data[\"train\"]"
      ]
    },
    {
      "cell_type": "code",
      "execution_count": null,
      "metadata": {
        "colab": {
          "base_uri": "https://localhost:8080/"
        },
        "id": "W396XiF5WQiz",
        "outputId": "31cf64c7-7f1c-4c75-b964-21c08b60d012"
      },
      "outputs": [],
      "source": [
        "train_df.info()"
      ]
    },
    {
      "cell_type": "code",
      "execution_count": null,
      "metadata": {
        "colab": {
          "base_uri": "https://localhost:8080/",
          "height": 558
        },
        "id": "SHdPwyeoo9C9",
        "outputId": "82045db0-970b-4107-85ad-0e7dc697e288"
      },
      "outputs": [],
      "source": [
        "fig, ax = plt.subplots(figsize=(16, 9))\n",
        "ax.scatter(train_df[\"x\"], train_df[\"y\"])"
      ]
    },
    {
      "cell_type": "code",
      "execution_count": null,
      "metadata": {
        "colab": {
          "base_uri": "https://localhost:8080/"
        },
        "id": "q-eCsL9Do9E4",
        "outputId": "70eca333-3f55-4268-accb-28a3ab93c204"
      },
      "outputs": [],
      "source": [
        "from sklearn.linear_model import LinearRegression\n",
        "\n",
        "model = LinearRegression()\n",
        "model.fit(train_df[\"x\"].values.reshape(-1, 1), train_df[\"y\"])"
      ]
    },
    {
      "cell_type": "code",
      "execution_count": null,
      "metadata": {
        "id": "6jzt373Io9HB"
      },
      "outputs": [],
      "source": [
        "train_predictions = model.predict(train_df[\"x\"].values.reshape(-1, 1))"
      ]
    },
    {
      "cell_type": "code",
      "execution_count": null,
      "metadata": {
        "colab": {
          "base_uri": "https://localhost:8080/",
          "height": 558
        },
        "id": "zHC6gBw8o9JX",
        "outputId": "811c557c-65f8-4cb2-c378-db1d27146a81"
      },
      "outputs": [],
      "source": [
        "fig, ax = plt.subplots(figsize=(16, 9))\n",
        "ax.scatter(train_df[\"x\"], train_df[\"y\"], label=\"train_data\")\n",
        "ax.scatter(train_df[\"x\"], train_predictions, label=\"train_predictions\")\n",
        "ax.legend()"
      ]
    },
    {
      "cell_type": "code",
      "execution_count": null,
      "metadata": {
        "colab": {
          "base_uri": "https://localhost:8080/"
        },
        "id": "FNcVyOE5tJFg",
        "outputId": "11f88211-1631-4bc8-d656-a73e4f2d700f"
      },
      "outputs": [],
      "source": [
        "from sklearn.metrics import mean_squared_error\n",
        "\n",
        "train_mse = mean_squared_error(train_df[\"y\"], train_predictions)\n",
        "print(f\"Train MSE (one feature) = {train_mse}\")"
      ]
    },
    {
      "cell_type": "code",
      "execution_count": null,
      "metadata": {
        "id": "RTjWW7p0o9MB"
      },
      "outputs": [],
      "source": [
        "train_df[\"x2\"] = train_df[\"x\"] ** 2"
      ]
    },
    {
      "cell_type": "code",
      "execution_count": null,
      "metadata": {
        "colab": {
          "base_uri": "https://localhost:8080/"
        },
        "id": "GhqbgWgntAtB",
        "outputId": "716bd9d6-04f9-4ff5-dda8-3d072915d40f"
      },
      "outputs": [],
      "source": [
        "model = LinearRegression()\n",
        "model.fit(train_df[[\"x\", \"x2\"]], train_df[\"y\"])"
      ]
    },
    {
      "cell_type": "code",
      "execution_count": null,
      "metadata": {
        "id": "6aBwKqI0tAvg"
      },
      "outputs": [],
      "source": [
        "train_predictions = model.predict(train_df[[\"x\", \"x2\"]])"
      ]
    },
    {
      "cell_type": "code",
      "execution_count": null,
      "metadata": {
        "colab": {
          "base_uri": "https://localhost:8080/",
          "height": 558
        },
        "id": "V86rV1X0tAxv",
        "outputId": "09bd7a77-fa4f-49f5-d0a8-ea75454233c6"
      },
      "outputs": [],
      "source": [
        "fig, ax = plt.subplots(figsize=(16, 9))\n",
        "ax.scatter(train_df[\"x\"], train_df[\"y\"], label=\"train_data\")\n",
        "ax.scatter(train_df[\"x\"], train_predictions, label=\"train_predictions\")\n",
        "ax.legend()"
      ]
    },
    {
      "cell_type": "code",
      "execution_count": null,
      "metadata": {
        "colab": {
          "base_uri": "https://localhost:8080/"
        },
        "id": "EifTXCmUtA0S",
        "outputId": "b93c887f-204d-4877-82ce-c9b333addac3"
      },
      "outputs": [],
      "source": [
        "train_mse = mean_squared_error(train_df[\"y\"], train_predictions)\n",
        "print(f\"Train MSE (two features) = {train_mse}\")"
      ]
    },
    {
      "cell_type": "code",
      "execution_count": null,
      "metadata": {
        "id": "u1PbT7uYtA22"
      },
      "outputs": [],
      "source": [
        "train_df[\"x3\"] = train_df[\"x\"] ** 3\n",
        "\n",
        "model = LinearRegression()\n",
        "model.fit(train_df[[\"x\", \"x2\", \"x3\"]], train_df[\"y\"])\n",
        "train_predictions = model.predict(train_df[[\"x\", \"x2\", \"x3\"]])"
      ]
    },
    {
      "cell_type": "code",
      "execution_count": null,
      "metadata": {
        "colab": {
          "base_uri": "https://localhost:8080/",
          "height": 558
        },
        "id": "h5g_ID5OWQlH",
        "outputId": "0f02bf5c-ac36-4fc9-bb48-ccb2d5e1a155"
      },
      "outputs": [],
      "source": [
        "fig, ax = plt.subplots(figsize=(16, 9))\n",
        "ax.scatter(train_df[\"x\"], train_df[\"y\"], label=\"train_data\")\n",
        "ax.scatter(train_df[\"x\"], train_predictions, label=\"train_predictions\")\n",
        "ax.legend()"
      ]
    },
    {
      "cell_type": "code",
      "execution_count": null,
      "metadata": {
        "colab": {
          "base_uri": "https://localhost:8080/"
        },
        "id": "5YpIh2Zyu7z4",
        "outputId": "218d5785-a9fd-4a37-962f-dc48ef4bb44d"
      },
      "outputs": [],
      "source": [
        "train_mse = mean_squared_error(train_df[\"y\"], train_predictions)\n",
        "print(f\"Train MSE (three features) = {train_mse}\")"
      ]
    },
    {
      "cell_type": "code",
      "execution_count": null,
      "metadata": {
        "id": "ZDVtNcksu74c"
      },
      "outputs": [],
      "source": [
        "from sklearn.preprocessing import PolynomialFeatures\n",
        "\n",
        "max_degree = 21\n",
        "train_mses = []\n",
        "for i in range(1, 21):\n",
        "    poly = PolynomialFeatures(degree=i, include_bias=False)\n",
        "    X = poly.fit_transform(train_df[[\"x\"]])\n",
        "    model = LinearRegression().fit(X, train_df[\"y\"])\n",
        "    train_predictions = model.predict(X)\n",
        "    train_mses.append(mean_squared_error(train_df[\"y\"], train_predictions))\n",
        "\n",
        "fig, ax = plt.subplots(figsize=(16, 9))\n",
        "ax.scatter(range(1, max_degree), train_mses)\n",
        "ax.set_yscale('log')"
      ]
    },
    {
      "cell_type": "code",
      "execution_count": null,
      "metadata": {
        "colab": {
          "base_uri": "https://localhost:8080/"
        },
        "id": "L4vuW9slu79n",
        "outputId": "e4be9a16-8b0d-4665-e899-484f7478b9c6"
      },
      "outputs": [],
      "source": [
        "train_mses[-1]"
      ]
    },
    {
      "cell_type": "code",
      "execution_count": null,
      "metadata": {
        "colab": {
          "base_uri": "https://localhost:8080/",
          "height": 513
        },
        "id": "fMaDJ-nZu8AV",
        "outputId": "2e07831c-9892-4c86-9a30-7c9514befc18"
      },
      "outputs": [],
      "source": [
        "fig, axes = plt.subplots(1, 3, figsize=(25, 9))\n",
        "for ax, degree in zip(axes, [1, 4, 20]):\n",
        "    poly = PolynomialFeatures(degree=degree)\n",
        "    X = poly.fit_transform(train_df[[\"x\"]])\n",
        "    model = LinearRegression().fit(X, train_df[\"y\"])\n",
        "    train_predictions = model.predict(X)\n",
        "    train_mse = mean_squared_error(train_df[\"y\"], train_predictions)\n",
        "\n",
        "    xspace = np.linspace(0, 1, 100)\n",
        "    Xspace = poly.fit_transform(xspace.reshape(-1, 1))\n",
        "    yspace = model.predict(Xspace)\n",
        "\n",
        "    ax.scatter(train_df[\"x\"], train_df[\"y\"], label=\"train_points\")\n",
        "    ax.scatter(train_df[\"x\"], train_predictions, label=\"predictions\")\n",
        "    ax.plot(xspace, yspace, label=\"model_function\", color=\"red\")\n",
        "    ax.set_title(f\"Degree: {degree}, MSE: {train_mse}\")\n",
        "    ax.legend()\n",
        "plt.show()"
      ]
    },
    {
      "cell_type": "code",
      "execution_count": null,
      "metadata": {
        "colab": {
          "base_uri": "https://localhost:8080/",
          "height": 504
        },
        "id": "MnyLPNbku8Cx",
        "outputId": "fe980c0c-30c1-4198-9568-abe437d91cbd"
      },
      "outputs": [],
      "source": [
        "val_df = data[\"val\"]\n",
        "\n",
        "fig, axes = plt.subplots(1, 3, figsize=(25, 9))\n",
        "for ax, degree in zip(axes, [1, 4, 20]):\n",
        "    poly = PolynomialFeatures(degree=degree)\n",
        "    X = poly.fit_transform(train_df[[\"x\"]])\n",
        "    model = LinearRegression().fit(X, train_df[\"y\"])\n",
        "    train_predictions = model.predict(X)\n",
        "    train_mse = mean_squared_error(train_df[\"y\"], train_predictions)\n",
        "\n",
        "    xspace = np.linspace(0, 1, 100)\n",
        "    Xspace = poly.fit_transform(xspace.reshape(-1, 1))\n",
        "    yspace = model.predict(Xspace)\n",
        "\n",
        "    X_val = poly.fit_transform(val_df[[\"x\"]])\n",
        "    val_predictions = model.predict(X_val)\n",
        "    val_mse = mean_squared_error(val_df[\"y\"], val_predictions)\n",
        "\n",
        "    ax.scatter(train_df[\"x\"], train_df[\"y\"], label=\"train_points\")\n",
        "    ax.scatter(val_df[\"x\"], val_df[\"y\"], label=\"val_points\")\n",
        "\n",
        "    ax.scatter(train_df[\"x\"], train_predictions, label=\"predictions\")\n",
        "    ax.scatter(val_df[\"x\"], val_predictions, label=\"val_predictions\")\n",
        "    \n",
        "    ax.plot(xspace, yspace, label=\"model_function\", color=\"red\")\n",
        "    ax.set_title(f\"Degree: {degree}, MSE: {train_mse}, Val MSE: {val_mse}\")\n",
        "    ax.legend()\n",
        "plt.show()"
      ]
    },
    {
      "cell_type": "code",
      "execution_count": null,
      "metadata": {
        "colab": {
          "base_uri": "https://localhost:8080/",
          "height": 540
        },
        "id": "aL4NPXor15no",
        "outputId": "3193a0f3-a33d-4fcd-ad5f-3ce6ba3a22c1"
      },
      "outputs": [],
      "source": [
        "from sklearn.preprocessing import PolynomialFeatures\n",
        "\n",
        "max_degree = 21\n",
        "train_mses = []\n",
        "val_mses = []\n",
        "for i in range(1, 21):\n",
        "    poly = PolynomialFeatures(degree=i, include_bias=False)\n",
        "    X = poly.fit_transform(train_df[[\"x\"]])\n",
        "    model = LinearRegression().fit(X, train_df[\"y\"])\n",
        "    train_predictions = model.predict(X)\n",
        "    train_mses.append(mean_squared_error(train_df[\"y\"], train_predictions))\n",
        "\n",
        "    X_val = poly.fit_transform(val_df[[\"x\"]])\n",
        "    val_predictions = model.predict(X_val)\n",
        "    val_mses.append(mean_squared_error(val_df[\"y\"], val_predictions))\n",
        "\n",
        "fig, ax = plt.subplots(figsize=(16, 9))\n",
        "ax.scatter(range(1, max_degree), train_mses, label=\"train mse\")\n",
        "ax.scatter(range(1, max_degree), val_mses, label=\"validation mse\")\n",
        "ax.legend()\n",
        "ax.set_yscale('log')"
      ]
    },
    {
      "cell_type": "code",
      "execution_count": null,
      "metadata": {
        "id": "GECphjJr15sd"
      },
      "outputs": [],
      "source": []
    },
    {
      "cell_type": "markdown",
      "metadata": {
        "id": "SkH6YUGkWQ8h"
      },
      "source": [
        "# Boston Housing dataset"
      ]
    },
    {
      "cell_type": "markdown",
      "metadata": {
        "id": "-CALCHcjWWuQ"
      },
      "source": [
        "http://www.cs.toronto.edu/~delve/data/boston/bostonDetail.html"
      ]
    },
    {
      "cell_type": "code",
      "execution_count": null,
      "metadata": {
        "colab": {
          "base_uri": "https://localhost:8080/"
        },
        "id": "IrwqWCYRWUUI",
        "outputId": "c99a927b-8716-4659-a7e4-8b5b1760cfaf"
      },
      "outputs": [],
      "source": [
        "!wget https://raw.githubusercontent.com/selva86/datasets/master/BostonHousing.csv"
      ]
    },
    {
      "cell_type": "code",
      "execution_count": null,
      "metadata": {
        "id": "9RG2oEwbWbQq"
      },
      "outputs": [],
      "source": [
        "df = pd.read_csv(\"BostonHousing.csv\")\n",
        "df.head()"
      ]
    },
    {
      "cell_type": "code",
      "execution_count": null,
      "metadata": {
        "colab": {
          "base_uri": "https://localhost:8080/"
        },
        "id": "nE5OpC9tAhFM",
        "outputId": "1d5272f5-9e86-4ee9-ef2a-e28bf9a8f41f"
      },
      "outputs": [],
      "source": [
        "df.info()"
      ]
    },
    {
      "cell_type": "code",
      "execution_count": null,
      "metadata": {
        "id": "ypZrPqT3AjHV"
      },
      "outputs": [],
      "source": [
        "from sklearn.model_selection import train_test_split\n",
        "\n",
        "trainval_df, test_df = train_test_split(df, test_size=0.1)\n",
        "train_df, val_df = train_test_split(trainval_df, test_size=0.2)"
      ]
    },
    {
      "cell_type": "code",
      "execution_count": null,
      "metadata": {
        "id": "UIsvc421BVkq"
      },
      "outputs": [],
      "source": [
        "X_train = train_df.drop(\"medv\", axis=1)\n",
        "y_train = train_df[\"medv\"]\n",
        "\n",
        "X_val = val_df.drop(\"medv\", axis=1)\n",
        "y_val = val_df[\"medv\"]\n",
        "\n",
        "X_test = test_df.drop(\"medv\", axis=1)\n",
        "y_test = test_df[\"medv\"]"
      ]
    },
    {
      "cell_type": "code",
      "execution_count": null,
      "metadata": {
        "id": "VTitGHXKEfOJ"
      },
      "outputs": [],
      "source": [
        "from sklearn.preprocessing import StandardScaler\n",
        "\n",
        "scl = StandardScaler()\n",
        "X_train_scaled = scl.fit_transform(X_train)\n",
        "X_val_scaled = scl.transform(X_val)"
      ]
    },
    {
      "cell_type": "code",
      "execution_count": null,
      "metadata": {
        "id": "NijHauHjB0BG"
      },
      "outputs": [],
      "source": [
        "model = LinearRegression().fit(X_train_scaled, y_train)"
      ]
    },
    {
      "cell_type": "code",
      "execution_count": null,
      "metadata": {
        "colab": {
          "base_uri": "https://localhost:8080/"
        },
        "id": "Gty98aikB8sN",
        "outputId": "c9eb65c1-ab95-4530-8ff5-ce39b6297158"
      },
      "outputs": [],
      "source": [
        "from sklearn.metrics import mean_squared_error\n",
        "\n",
        "train_pred = model.predict(X_train_scaled)\n",
        "val_pred  = model.predict(X_val_scaled)\n",
        "\n",
        "print(f\"Train MSE: {mean_squared_error(y_train, train_pred)}\")\n",
        "print(f\"Validation MSE: {mean_squared_error(y_val, val_pred)}\")"
      ]
    },
    {
      "cell_type": "code",
      "execution_count": null,
      "metadata": {
        "id": "tGZFUhHACS93"
      },
      "outputs": [],
      "source": [
        "# визуализация коэффициентов линейной регрессии\n",
        "def visualize_coefficients(coefs, feature_names, top_n):\n",
        "    \"\"\"Функция для визуализации коэффициентов линейной регрессии.\n",
        "\n",
        "    Параметры:\n",
        "        coefs: коэффициенты модели (model.coef_).\n",
        "        feature_names: названия признаков (X_train.columns).\n",
        "        top_n: вывести top_n самых положительных и top_n самых отрицательных признаков.\n",
        "    \"\"\"\n",
        "    feature_names = np.array(feature_names)\n",
        "    if top_n * 2 > len(coefs):\n",
        "        n_pos = len(coefs) // 2\n",
        "        n_neg = len(coefs) - n_pos\n",
        "    else:\n",
        "        n_pos, n_neg = top_n, top_n\n",
        "    # нам нужно найти индексы top_n наибольших и top_n наименьших коэффициентов\n",
        "    min_coef_idxs = np.argsort(coefs)[:n_neg]\n",
        "    max_coef_idxs = np.argsort(coefs)[len(coefs) - n_pos:]\n",
        "    # соответствующие имена фичей\n",
        "    top_feature_names = np.concatenate((feature_names[min_coef_idxs], feature_names[max_coef_idxs])) \n",
        "    # отобразим на bar-графике\n",
        "    fig, ax = plt.subplots(figsize=(16, 9))\n",
        "    ax.bar(np.arange(n_neg), coefs[min_coef_idxs], color=sns.xkcd_rgb[\"mauve\"], hatch=\"/\")\n",
        "    ax.bar(np.arange(n_neg, n_neg + n_pos), coefs[max_coef_idxs], color=sns.xkcd_rgb[\"teal\"], hatch=\"\\\\\")\n",
        "    ax.set_xticks(np.arange(0, n_neg + n_pos))\n",
        "    ax.set_xticklabels(top_feature_names, rotation=45, ha=\"right\", fontsize=14)\n",
        "    plt.show()"
      ]
    },
    {
      "cell_type": "code",
      "execution_count": null,
      "metadata": {
        "colab": {
          "base_uri": "https://localhost:8080/",
          "height": 584
        },
        "id": "NRHZtITjDWMA",
        "outputId": "bbcc615f-5803-474c-cf3a-efc45e8154d6"
      },
      "outputs": [],
      "source": [
        "visualize_coefficients(model.coef_, X_train.columns)"
      ]
    },
    {
      "cell_type": "code",
      "execution_count": null,
      "metadata": {
        "id": "tmIrDH-pDoEy"
      },
      "outputs": [],
      "source": [
        "LinearRegression()"
      ]
    }
  ],
  "metadata": {
    "colab": {
      "collapsed_sections": [],
      "provenance": []
    },
    "kernelspec": {
      "display_name": "Python 3",
      "name": "python3"
    },
    "language_info": {
      "name": "python"
    }
  },
  "nbformat": 4,
  "nbformat_minor": 0
}
