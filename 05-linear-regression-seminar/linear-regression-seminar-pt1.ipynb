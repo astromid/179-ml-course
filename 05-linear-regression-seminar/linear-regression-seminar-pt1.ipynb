{
 "cells": [
  {
   "cell_type": "code",
   "execution_count": null,
   "metadata": {},
   "outputs": [],
   "source": [
    "import numpy as np\n",
    "import pandas as pd\n",
    "import matplotlib.pyplot as plt\n",
    "import seaborn as sns\n",
    "sns.set()"
   ]
  },
  {
   "cell_type": "markdown",
   "metadata": {},
   "source": [
    "# Закон Гука"
   ]
  },
  {
   "cell_type": "markdown",
   "metadata": {},
   "source": [
    "## Загрузка и визуализация данных"
   ]
  },
  {
   "cell_type": "code",
   "execution_count": null,
   "metadata": {},
   "outputs": [],
   "source": [
    "elasticity_df = pd.read_csv('elasticity.csv')\n",
    "elasticity_df.head()"
   ]
  },
  {
   "cell_type": "code",
   "execution_count": null,
   "metadata": {},
   "outputs": [],
   "source": [
    "elasticity_df.info()"
   ]
  },
  {
   "cell_type": "code",
   "execution_count": null,
   "metadata": {},
   "outputs": [],
   "source": [
    "fig, ax = plt.subplots(figsize=(16, 9))\n",
    "sns.scatterplot(x=elasticity_df['x'], y=elasticity_df['F'], ax=ax)\n",
    "ax.set_xlabel(\"x, m\", fontsize=20)\n",
    "ax.set_ylabel(\"F, N\", fontsize=20)\n",
    "ax.set_title(\"Измеренная зависимость силы упругости от величины растяжения\", fontsize=22)\n",
    "plt.show()"
   ]
  },
  {
   "cell_type": "markdown",
   "metadata": {},
   "source": [
    "## Линейная регрессия"
   ]
  },
  {
   "cell_type": "markdown",
   "metadata": {},
   "source": [
    "### Аналитическое решение (одномерная регрессия)"
   ]
  },
  {
   "cell_type": "code",
   "execution_count": null,
   "metadata": {},
   "outputs": [],
   "source": [
    "x = elasticity_df['x']\n",
    "y = elasticity_df['F']"
   ]
  },
  {
   "cell_type": "markdown",
   "metadata": {},
   "source": [
    "*Задание: реализуйте подсчет w по формуле*"
   ]
  },
  {
   "cell_type": "code",
   "execution_count": null,
   "metadata": {},
   "outputs": [],
   "source": [
    "# write your code here\n",
    "w = \n",
    "print(f'k_упр = {w}')"
   ]
  },
  {
   "cell_type": "markdown",
   "metadata": {},
   "source": [
    "*Задание: посчитайте значение MSE для полученной прямой*"
   ]
  },
  {
   "cell_type": "code",
   "execution_count": null,
   "metadata": {},
   "outputs": [],
   "source": [
    "# write your code here\n",
    "y_pred = \n",
    "mse = \n",
    "print(f'MSE: {mse}')"
   ]
  },
  {
   "cell_type": "code",
   "execution_count": null,
   "metadata": {},
   "outputs": [],
   "source": [
    "# visualize\n",
    "fig, ax = plt.subplots(figsize=(16, 9))\n",
    "ax.plot(x, w * x, label='predicted', color='green')\n",
    "sns.scatterplot(x=elasticity_df['x'], y=elasticity_df['F'], label='measured', ax=ax)\n",
    "ax.set_xlabel(\"x, m\", fontsize=20)\n",
    "ax.set_ylabel(\"F, N\", fontsize=20)\n",
    "ax.set_title(\"Измеренная зависимость силы упругости от величины растяжения\", fontsize=22)\n",
    "plt.show()"
   ]
  },
  {
   "cell_type": "markdown",
   "metadata": {},
   "source": [
    "### Аналитическое решение (многомерная регрессия)"
   ]
  },
  {
   "cell_type": "code",
   "execution_count": null,
   "metadata": {},
   "outputs": [],
   "source": [
    "# bias trick\n",
    "bias = np.ones_like(x)\n",
    "X = np.column_stack((bias, x))"
   ]
  },
  {
   "cell_type": "markdown",
   "metadata": {},
   "source": [
    "*Задание: реализуйте решение по формуле для множественной регрессии*"
   ]
  },
  {
   "cell_type": "code",
   "execution_count": null,
   "metadata": {},
   "outputs": [],
   "source": [
    "# write your code here\n",
    "# tip: use np.linalg.inv for matrix inversion, .T for transpose, @ for matrix multiplication\n",
    "w = \n",
    "print(f'w0 = {w[0]}, w1 = {w[1]}')"
   ]
  },
  {
   "cell_type": "markdown",
   "metadata": {},
   "source": [
    "*Задание: посчитайте MSE для новой прямой, сравните с предыдущим значением*"
   ]
  },
  {
   "cell_type": "code",
   "execution_count": null,
   "metadata": {},
   "outputs": [],
   "source": [
    "y_pred = \n",
    "mse = \n",
    "print(f'MSE: {mse}')"
   ]
  },
  {
   "cell_type": "code",
   "execution_count": null,
   "metadata": {},
   "outputs": [],
   "source": [
    "fig, ax = plt.subplots(figsize=(16, 9))\n",
    "ax.plot(x, w[0] + w[1] * x, label='predicted', color='green')\n",
    "sns.scatterplot(x=elasticity_df['x'], y=elasticity_df['F'], label='measured', ax=ax)\n",
    "ax.set_xlabel(\"x, m\", fontsize=20)\n",
    "ax.set_ylabel(\"F, N\", fontsize=20)\n",
    "ax.set_title(\"Измеренная зависимость силы упругости от величины растяжения\", fontsize=22)\n",
    "plt.show()"
   ]
  },
  {
   "cell_type": "markdown",
   "metadata": {},
   "source": [
    "### Реализация из scikit-learn"
   ]
  },
  {
   "cell_type": "code",
   "execution_count": null,
   "metadata": {},
   "outputs": [],
   "source": []
  }
 ],
 "metadata": {
  "kernelspec": {
   "display_name": "Python 3",
   "language": "python",
   "name": "python3"
  },
  "language_info": {
   "codemirror_mode": {
    "name": "ipython",
    "version": 3
   },
   "file_extension": ".py",
   "mimetype": "text/x-python",
   "name": "python",
   "nbconvert_exporter": "python",
   "pygments_lexer": "ipython3",
   "version": "3.9.1-final"
  },
  "orig_nbformat": 2
 },
 "nbformat": 4,
 "nbformat_minor": 2
}
