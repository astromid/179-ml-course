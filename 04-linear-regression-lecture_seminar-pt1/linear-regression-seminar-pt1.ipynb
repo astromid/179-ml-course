{
 "cells": [
  {
   "cell_type": "code",
   "execution_count": null,
   "metadata": {},
   "outputs": [],
   "source": [
    "import numpy as np\n",
    "import pandas as pd\n",
    "import matplotlib.pyplot as plt\n",
    "import seaborn as sns\n",
    "sns.set()"
   ]
  },
  {
   "cell_type": "markdown",
   "metadata": {},
   "source": [
    "# Закон Гука"
   ]
  },
  {
   "cell_type": "markdown",
   "metadata": {},
   "source": [
    "## Загрузка и визуализация данных"
   ]
  },
  {
   "cell_type": "code",
   "execution_count": null,
   "metadata": {},
   "outputs": [],
   "source": [
    "!wget --header 'Host: doc-14-4s-docs.googleusercontent.com' --user-agent 'Mozilla/5.0 (Windows NT 10.0; Win64; x64; rv:105.0) Gecko/20100101 Firefox/105.0' --header 'Accept: text/html,application/xhtml+xml,application/xml;q=0.9,image/avif,image/webp,*/*;q=0.8' --header 'Accept-Language: ru-RU,ru;q=0.8,en-US;q=0.5,en;q=0.3' --referer 'https://drive.google.com/' --header 'Alt-Used: doc-14-4s-docs.googleusercontent.com' --header 'Cookie: AUTH_2e8d163kshe9re41o0jnd6qmlg5llkej_nonce=b8p079ccouqbc' --header 'Upgrade-Insecure-Requests: 1' --header 'Sec-Fetch-Dest: document' --header 'Sec-Fetch-Mode: navigate' --header 'Sec-Fetch-Site: cross-site' 'https://doc-14-4s-docs.googleusercontent.com/docs/securesc/sabtijsp0g65e82js0bulk9n9uvtldlq/2gt1fnth9infqda6ggunjb6pv50eshrb/1664616450000/09374342874859485737/09374342874859485737/12nxZzYeijRBdlnOvpv4E7gYZh-1gAoeN?e=download&ax=ALW9-sDwsgWiMYP8hWVtPAoYr3hN7rHkEhRTShsEt5K0nSwFESYhH88J40TJm_Z78VdqKDKGHakiT0_79e40wY9Lb8EwK2dt-xZKLBs7vOgFrT7xkDYC-sUb45_EcnHd3fcewmA3inkhXqnqjsFAE4oFfjBhnViXUvuDA0-MnnT7tbp2O6ALXNL7uezSQ2lLcR1PdJLZIFOWHCkkQJDHPg88YervNMas5hqq87ChKIUiLdr0DqnnfTjLj_hCa5BbNTTkixm36cgg3etxFK0LvHY6l7-_U9qVL_BPOD13zsMfGFj7mbqQFHcbayP_2LGCWI_Hmx2yH3n6_QCw9JkPe6oezPox8mhw2nt76iiyC909MGA8odug0cP35qmP1UWmRsNQk64G3seR4t9enQ9LjNeCAHd-TqTsvGkayUsYmZqkhR7kErZFXQ4UScWYN5cPr68j4kZO-LnW8Erg252Nt-kvt3taE8B4T8QHYLNe2kLEdZv7_6gACUkhxWukLzWZSXg5ii_5CdIguQsUIHkqE6x1NcczclpVc_5IYrokB4LmKusdCVu5pE1r5_8mm1xCjWl7xteMCKiyjrdpdTGmmDareSGKf8Huwx7V53Y05gkBaxTuOvO4rrJVYiygZd5hdLbr3SH9n3XQQ7HFUyVdIlUg11HenXWffwV2And536VLzL9Cldq9MH134_ecn3iEvTgHHwxLLDFbcSuEtlC2mwTJI5hi1eDZMie4wFry1F9QuU-ZbaMnSNJEa8OxNVD7LKxR7O0NTmZp2fz4p4JOOpra80pI5W0UXYJ3ccUjUuwAJMMjvhgsAcV5YDmk8jq-OX0saDRRzk5ppB2OiPfc-ISXOBz2tOjS4Y6Qf7bL7cb5RSL_mI40Hr-RGJ5hPJmkD21TDd4ITLbWNKI2vhv7O-MwDe_w8XUVwpruQ7oE2F-tPcrGzr_QxLBtBijDFNY6-yGsGkEPZEYOiyFpsuyhi5umTykZ02CYOGl44aGauw&uuid=c73ab5c3-d45d-49af-aafc-698b1d97084f&authuser=1&nonce=b8p079ccouqbc&user=09374342874859485737&hash=i2fdto3ftoq8hi8hgnpji73sbmtl6qrc' --output-document 'elasticity.csv'"
   ]
  },
  {
   "cell_type": "code",
   "execution_count": null,
   "metadata": {},
   "outputs": [],
   "source": [
    "elasticity_df = pd.read_csv('elasticity.csv')\n",
    "elasticity_df.head()"
   ]
  },
  {
   "cell_type": "code",
   "execution_count": null,
   "metadata": {},
   "outputs": [],
   "source": [
    "elasticity_df.info()"
   ]
  },
  {
   "cell_type": "code",
   "execution_count": null,
   "metadata": {},
   "outputs": [],
   "source": [
    "fig, ax = plt.subplots(figsize=(16, 9))\n",
    "sns.scatterplot(x=elasticity_df['x'], y=elasticity_df['F'], ax=ax)\n",
    "ax.set_xlabel(\"x, m\", fontsize=20)\n",
    "ax.set_ylabel(\"F, N\", fontsize=20)\n",
    "ax.set_title(\"Измеренная зависимость силы упругости от величины растяжения\", fontsize=22)\n",
    "plt.show()"
   ]
  },
  {
   "cell_type": "markdown",
   "metadata": {},
   "source": [
    "## Линейная регрессия"
   ]
  },
  {
   "cell_type": "markdown",
   "metadata": {},
   "source": [
    "### Аналитическое решение (одномерная регрессия)"
   ]
  },
  {
   "cell_type": "code",
   "execution_count": null,
   "metadata": {},
   "outputs": [],
   "source": [
    "x = elasticity_df['x']\n",
    "y = elasticity_df['F']"
   ]
  },
  {
   "cell_type": "markdown",
   "metadata": {},
   "source": [
    "*Задание: реализуйте подсчет w по формуле*"
   ]
  },
  {
   "cell_type": "code",
   "execution_count": null,
   "metadata": {},
   "outputs": [],
   "source": [
    "# write your code here\n",
    "w = \n",
    "print(f'k_упр = {w}')"
   ]
  },
  {
   "cell_type": "markdown",
   "metadata": {},
   "source": [
    "*Задание: посчитайте значение MSE для полученной прямой*"
   ]
  },
  {
   "cell_type": "code",
   "execution_count": null,
   "metadata": {},
   "outputs": [],
   "source": [
    "# write your code here\n",
    "y_pred = \n",
    "mse = \n",
    "print(f'MSE: {mse}')"
   ]
  },
  {
   "cell_type": "code",
   "execution_count": null,
   "metadata": {},
   "outputs": [],
   "source": [
    "# visualize\n",
    "fig, ax = plt.subplots(figsize=(16, 9))\n",
    "ax.plot(x, w * x, label='predicted', color='green')\n",
    "sns.scatterplot(x=elasticity_df['x'], y=elasticity_df['F'], label='measured', ax=ax)\n",
    "ax.set_xlabel(\"x, m\", fontsize=20)\n",
    "ax.set_ylabel(\"F, N\", fontsize=20)\n",
    "ax.set_title(\"Измеренная зависимость силы упругости от величины растяжения\", fontsize=22)\n",
    "plt.show()"
   ]
  },
  {
   "cell_type": "markdown",
   "metadata": {},
   "source": [
    "### Аналитическое решение (многомерная регрессия)"
   ]
  },
  {
   "cell_type": "code",
   "execution_count": null,
   "metadata": {},
   "outputs": [],
   "source": [
    "# bias trick\n",
    "bias = np.ones_like(x)\n",
    "X = np.column_stack((bias, x))"
   ]
  },
  {
   "cell_type": "markdown",
   "metadata": {},
   "source": [
    "*Задание: реализуйте решение по формуле для множественной регрессии*"
   ]
  },
  {
   "cell_type": "code",
   "execution_count": null,
   "metadata": {},
   "outputs": [],
   "source": [
    "# write your code here\n",
    "# tip: use np.linalg.inv for matrix inversion, .T for transpore, @ for matrix multiplication\n",
    "w = \n",
    "print(f'w0 = {w[0]}, w1 = {w[1]}')"
   ]
  },
  {
   "cell_type": "markdown",
   "metadata": {},
   "source": [
    "*Задание: посчитайте MSE для новой прямой, сравните с предыдущим значением*"
   ]
  },
  {
   "cell_type": "code",
   "execution_count": null,
   "metadata": {},
   "outputs": [],
   "source": [
    "y_pred = \n",
    "mse = \n",
    "print(f'MSE: {mse}')"
   ]
  },
  {
   "cell_type": "code",
   "execution_count": null,
   "metadata": {},
   "outputs": [],
   "source": [
    "fig, ax = plt.subplots(figsize=(16, 9))\n",
    "ax.plot(x, w[0] + w[1] * x, label='predicted', color='green')\n",
    "sns.scatterplot(x=elasticity_df['x'], y=elasticity_df['F'], label='measured', ax=ax)\n",
    "ax.set_xlabel(\"x, m\", fontsize=20)\n",
    "ax.set_ylabel(\"F, N\", fontsize=20)\n",
    "ax.set_title(\"Измеренная зависимость силы упругости от величины растяжения\", fontsize=22)\n",
    "plt.show()"
   ]
  },
  {
   "cell_type": "markdown",
   "metadata": {},
   "source": [
    "### Реализация из scikit-learn"
   ]
  },
  {
   "cell_type": "code",
   "execution_count": null,
   "metadata": {},
   "outputs": [],
   "source": []
  }
 ],
 "metadata": {
  "kernelspec": {
   "display_name": "Python 3",
   "language": "python",
   "name": "python3"
  },
  "language_info": {
   "codemirror_mode": {
    "name": "ipython",
    "version": 3
   },
   "file_extension": ".py",
   "mimetype": "text/x-python",
   "name": "python",
   "nbconvert_exporter": "python",
   "pygments_lexer": "ipython3",
   "version": "3.9.1-final"
  },
  "orig_nbformat": 2
 },
 "nbformat": 4,
 "nbformat_minor": 2
}
